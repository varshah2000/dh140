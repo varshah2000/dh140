{
 "cells": [
  {
   "cell_type": "markdown",
   "id": "cc2bf5b1-b649-4455-91f5-7a93dbb69fe7",
   "metadata": {},
   "source": [
    "# Assignment 07 - Stats & Modeling"
   ]
  },
  {
   "cell_type": "markdown",
   "id": "6aba9165-6824-4adb-949f-96a1ed3aed2b",
   "metadata": {},
   "source": [
    "# Step 2"
   ]
  },
  {
   "cell_type": "code",
   "execution_count": 1,
   "id": "58252aa2-1dfc-4e12-a286-1dc341c8e703",
   "metadata": {},
   "outputs": [],
   "source": [
    "# Imports\n",
    "from nltk.tokenize import sent_tokenize, word_tokenize\n",
    "from nltk.corpus import stopwords\n",
    "from nltk.probability import FreqDist\n",
    "from nltk.stem import WordNetLemmatizer\n",
    "from string import punctuation\n",
    "import numpy as np\n",
    "import pandas as pd"
   ]
  },
  {
   "cell_type": "markdown",
   "id": "27233f4f-aaed-4ae4-80c8-3eee2f149815",
   "metadata": {},
   "source": [
    "#### Tokenize the words, remove stopwords, stem or lemmatize the words, and calculate the word frequencies. "
   ]
  },
  {
   "cell_type": "code",
   "execution_count": null,
   "id": "28af809f-8776-4b2c-a575-95bd63206c02",
   "metadata": {},
   "outputs": [],
   "source": [
    "# Reading the text\n",
    "with open('CompleteShakespeare.txt','r') as f:\n",
    "    completeshakespeare = f.read()\n",
    "\n",
    "# Tokenizing\n",
    "words = word_tokenize(completeshakespeare.lower().replace('th’','the'))\n",
    "\n",
    "# Removing Stopwords\n",
    "myStopWords = list(punctuation) + stopwords.words('english')\n",
    "completewords = [w for w in words if w not in myStopWords or w in ['the']]\n",
    "\n",
    "# Stemming/ Lemmatizing\n",
    "completestemmed = [WordNetLemmatizer().lemmatize(w) for w in completewords]\n",
    "\n",
    "# Calculating Word Frequencies\n",
    "completefreq = FreqDist(completestemmed)\n"
   ]
  },
  {
   "cell_type": "markdown",
   "id": "b627031d-00a6-4ef3-b962-f6dda11f8f83",
   "metadata": {},
   "source": [
    "#### Calculate the mean, median, mode, and trimmed mean of word frequencies. For the trimmed mean, you can choose what to trim, but comment on the number used for trimming. "
   ]
  },
  {
   "cell_type": "code",
   "execution_count": 23,
   "id": "1c177c78-6490-4df3-89d0-f0c190d8af6a",
   "metadata": {},
   "outputs": [
    {
     "data": {
      "text/html": [
       "<div>\n",
       "<style scoped>\n",
       "    .dataframe tbody tr th:only-of-type {\n",
       "        vertical-align: middle;\n",
       "    }\n",
       "\n",
       "    .dataframe tbody tr th {\n",
       "        vertical-align: top;\n",
       "    }\n",
       "\n",
       "    .dataframe thead th {\n",
       "        text-align: right;\n",
       "    }\n",
       "</style>\n",
       "<table border=\"1\" class=\"dataframe\">\n",
       "  <thead>\n",
       "    <tr style=\"text-align: right;\">\n",
       "      <th></th>\n",
       "      <th>wordlist</th>\n",
       "      <th>wordfreq</th>\n",
       "    </tr>\n",
       "  </thead>\n",
       "  <tbody>\n",
       "    <tr>\n",
       "      <th>0</th>\n",
       "      <td>the</td>\n",
       "      <td>29971</td>\n",
       "    </tr>\n",
       "    <tr>\n",
       "      <th>1</th>\n",
       "      <td>’</td>\n",
       "      <td>16099</td>\n",
       "    </tr>\n",
       "    <tr>\n",
       "      <th>2</th>\n",
       "      <td>thou</td>\n",
       "      <td>5630</td>\n",
       "    </tr>\n",
       "    <tr>\n",
       "      <th>3</th>\n",
       "      <td>thy</td>\n",
       "      <td>4071</td>\n",
       "    </tr>\n",
       "    <tr>\n",
       "      <th>4</th>\n",
       "      <td>'d</td>\n",
       "      <td>4056</td>\n",
       "    </tr>\n",
       "  </tbody>\n",
       "</table>\n",
       "</div>"
      ],
      "text/plain": [
       "  wordlist  wordfreq\n",
       "0      the     29971\n",
       "1        ’     16099\n",
       "2     thou      5630\n",
       "3      thy      4071\n",
       "4       'd      4056"
      ]
     },
     "execution_count": 23,
     "metadata": {},
     "output_type": "execute_result"
    }
   ],
   "source": [
    "# Making DataFrame of Word Frequencies \n",
    "wordlist = []\n",
    "wordfreq = []\n",
    "\n",
    "for i in sorted(completefreq, key=completefreq.get, reverse=True):\n",
    "    wordlist.append(i)\n",
    "    wordfreq.append(completefreq[i])\n",
    "df = pd.DataFrame({'wordlist':wordlist,'wordfreq':wordfreq})\n",
    "\n",
    "df.head()"
   ]
  },
  {
   "cell_type": "code",
   "execution_count": 25,
   "id": "63f5a3f5-72fe-4e53-b53d-8578afb7658d",
   "metadata": {},
   "outputs": [
    {
     "data": {
      "text/plain": [
       "19.125589075023218"
      ]
     },
     "execution_count": 25,
     "metadata": {},
     "output_type": "execute_result"
    }
   ],
   "source": [
    "# Calculating Mean \n",
    "df['wordfreq'].mean()"
   ]
  },
  {
   "cell_type": "code",
   "execution_count": 26,
   "id": "641b2bf9-fbdb-483b-9fa5-682417f5c231",
   "metadata": {},
   "outputs": [
    {
     "data": {
      "text/plain": [
       "2.0"
      ]
     },
     "execution_count": 26,
     "metadata": {},
     "output_type": "execute_result"
    }
   ],
   "source": [
    "# Calculating Median\n",
    "df['wordfreq'].median()"
   ]
  },
  {
   "cell_type": "code",
   "execution_count": 27,
   "id": "b34e0e29-d929-4f39-85c2-0c42eec42671",
   "metadata": {},
   "outputs": [
    {
     "data": {
      "text/plain": [
       "0    1\n",
       "dtype: int64"
      ]
     },
     "execution_count": 27,
     "metadata": {},
     "output_type": "execute_result"
    }
   ],
   "source": [
    "# Calculating Mode\n",
    "df['wordfreq'].mode()"
   ]
  },
  {
   "cell_type": "markdown",
   "id": "2079bd52-5058-48d4-aec3-6bf444bdc762",
   "metadata": {},
   "source": [
    "#### Calculating Trimmed Mean"
   ]
  },
  {
   "cell_type": "code",
   "execution_count": 43,
   "id": "eed29358-7d1f-4fbb-a5d0-e1e6d5933118",
   "metadata": {},
   "outputs": [
    {
     "data": {
      "text/html": [
       "<div>\n",
       "<style scoped>\n",
       "    .dataframe tbody tr th:only-of-type {\n",
       "        vertical-align: middle;\n",
       "    }\n",
       "\n",
       "    .dataframe tbody tr th {\n",
       "        vertical-align: top;\n",
       "    }\n",
       "\n",
       "    .dataframe thead th {\n",
       "        text-align: right;\n",
       "    }\n",
       "</style>\n",
       "<table border=\"1\" class=\"dataframe\">\n",
       "  <thead>\n",
       "    <tr style=\"text-align: right;\">\n",
       "      <th></th>\n",
       "      <th>wordlist</th>\n",
       "      <th>wordfreq</th>\n",
       "    </tr>\n",
       "  </thead>\n",
       "  <tbody>\n",
       "    <tr>\n",
       "      <th>0</th>\n",
       "      <td>finis</td>\n",
       "      <td>1</td>\n",
       "    </tr>\n",
       "    <tr>\n",
       "      <th>1</th>\n",
       "      <td>arriv'd</td>\n",
       "      <td>1</td>\n",
       "    </tr>\n",
       "    <tr>\n",
       "      <th>2</th>\n",
       "      <td>repass</td>\n",
       "      <td>1</td>\n",
       "    </tr>\n",
       "    <tr>\n",
       "      <th>3</th>\n",
       "      <td>misgive</td>\n",
       "      <td>1</td>\n",
       "    </tr>\n",
       "    <tr>\n",
       "      <th>4</th>\n",
       "      <td>presaging</td>\n",
       "      <td>1</td>\n",
       "    </tr>\n",
       "    <tr>\n",
       "      <th>...</th>\n",
       "      <td>...</td>\n",
       "      <td>...</td>\n",
       "    </tr>\n",
       "    <tr>\n",
       "      <th>29066</th>\n",
       "      <td>'d</td>\n",
       "      <td>4056</td>\n",
       "    </tr>\n",
       "    <tr>\n",
       "      <th>29067</th>\n",
       "      <td>thy</td>\n",
       "      <td>4071</td>\n",
       "    </tr>\n",
       "    <tr>\n",
       "      <th>29068</th>\n",
       "      <td>thou</td>\n",
       "      <td>5630</td>\n",
       "    </tr>\n",
       "    <tr>\n",
       "      <th>29069</th>\n",
       "      <td>’</td>\n",
       "      <td>16099</td>\n",
       "    </tr>\n",
       "    <tr>\n",
       "      <th>29070</th>\n",
       "      <td>the</td>\n",
       "      <td>29971</td>\n",
       "    </tr>\n",
       "  </tbody>\n",
       "</table>\n",
       "<p>29071 rows × 2 columns</p>\n",
       "</div>"
      ],
      "text/plain": [
       "        wordlist  wordfreq\n",
       "0          finis         1\n",
       "1        arriv'd         1\n",
       "2         repass         1\n",
       "3        misgive         1\n",
       "4      presaging         1\n",
       "...          ...       ...\n",
       "29066         'd      4056\n",
       "29067        thy      4071\n",
       "29068       thou      5630\n",
       "29069          ’     16099\n",
       "29070        the     29971\n",
       "\n",
       "[29071 rows x 2 columns]"
      ]
     },
     "execution_count": 43,
     "metadata": {},
     "output_type": "execute_result"
    }
   ],
   "source": [
    "## Ordered Word Frequencies\n",
    "df2 = df.sort_values(by='wordfreq',ignore_index=True).copy()\n",
    "df2"
   ]
  },
  {
   "cell_type": "code",
   "execution_count": 79,
   "id": "11a08c6a-dc68-4fed-840d-72cb89b8667b",
   "metadata": {},
   "outputs": [
    {
     "data": {
      "text/plain": [
       "1.9768161805173363"
      ]
     },
     "execution_count": 79,
     "metadata": {},
     "output_type": "execute_result"
    }
   ],
   "source": [
    "df2.loc[int(0.25*29070):int(0.75*29070),'wordfreq'].mean()"
   ]
  },
  {
   "cell_type": "markdown",
   "id": "9b3ce2f7-cb49-4d3c-884b-cba2eb693320",
   "metadata": {},
   "source": [
    "The value above is the trimmed mean of the word frequencies within the Complete Shakespeare text. We trimmed off the 0.25th and the 0.75th percentiles of the distribution."
   ]
  },
  {
   "cell_type": "markdown",
   "id": "3b676395-3a74-469c-9d65-31d05b76e9bb",
   "metadata": {},
   "source": [
    "#### Histogram Plotting"
   ]
  },
  {
   "cell_type": "code",
   "execution_count": 76,
   "id": "43be0d04-fc21-4f53-81da-8ab0db625eac",
   "metadata": {},
   "outputs": [
    {
     "data": {
      "text/plain": [
       "<AxesSubplot:ylabel='Frequency'>"
      ]
     },
     "execution_count": 76,
     "metadata": {},
     "output_type": "execute_result"
    },
    {
     "data": {
      "image/png": "[encoded data removed]",
      "text/plain": [
       "<Figure size 432x288 with 1 Axes>"
      ]
     },
     "metadata": {
      "needs_background": "light"
     },
     "output_type": "display_data"
    }
   ],
   "source": [
    "df2[(df2['wordfreq'] > 25) & \n",
    "  (df2['wordfreq'] < 6000)].plot(kind= 'hist', bins = 100)"
   ]
  },
  {
   "cell_type": "markdown",
   "id": "85daa3d3-d0ae-4dd2-a601-41f85552ee1e",
   "metadata": {},
   "source": [
    "The distribution is heavily skewed right, with the trimmed mean (1.976), median (2.0), and mode (0 and 1), located within the leftmost bin of the distribution.  "
   ]
  },
  {
   "cell_type": "markdown",
   "id": "aef79c48-9504-42fd-9000-7740a026ecdd",
   "metadata": {},
   "source": [
    "#### Calculating Standard Deviation and IQR"
   ]
  },
  {
   "cell_type": "code",
   "execution_count": 89,
   "id": "5c92b25f-be93-4dfd-81cb-f28c5599e32d",
   "metadata": {},
   "outputs": [
    {
     "data": {
      "text/plain": [
       "227.45770610346662"
      ]
     },
     "execution_count": 89,
     "metadata": {},
     "output_type": "execute_result"
    }
   ],
   "source": [
    "# Standard Deviation\n",
    "df2['wordfreq'].std()"
   ]
  },
  {
   "cell_type": "code",
   "execution_count": 90,
   "id": "c263e9eb-4832-4c19-badc-c7beaccf5569",
   "metadata": {},
   "outputs": [
    {
     "data": {
      "text/plain": [
       "4.0"
      ]
     },
     "execution_count": 90,
     "metadata": {},
     "output_type": "execute_result"
    }
   ],
   "source": [
    "# Interquartile Range\n",
    "df2['wordfreq'].quantile(0.75) - df2['wordfreq'].quantile(0.25)"
   ]
  },
  {
   "cell_type": "markdown",
   "id": "a548e934-b78d-40e0-9d87-13a569f6077e",
   "metadata": {},
   "source": [
    "## Step 3: Machine Learning"
   ]
  },
  {
   "cell_type": "markdown",
   "id": "eefb890d-2876-4c40-937c-737c3b30c0b2",
   "metadata": {},
   "source": [
    "#### Import scikit-learn's example diabetes dataset as a Panda's dataframe with following code: "
   ]
  },
  {
   "cell_type": "code",
   "execution_count": 94,
   "id": "c52eace4-147e-47d7-bf76-6a23112ada49",
   "metadata": {},
   "outputs": [],
   "source": [
    "from sklearn import datasets\n",
    "df_diabetes = datasets.load_diabetes(as_frame = True)\n",
    "features_df = df_diabetes.data\n",
    "target_df = df_diabetes.target"
   ]
  },
  {
   "cell_type": "code",
   "execution_count": 95,
   "id": "a97456e6-1426-4b04-b1b3-69796ae93b05",
   "metadata": {},
   "outputs": [
    {
     "name": "stdout",
     "output_type": "stream",
     "text": [
      ".. _diabetes_dataset:\n",
      "\n",
      "Diabetes dataset\n",
      "----------------\n",
      "\n",
      "Ten baseline variables, age, sex, body mass index, average blood\n",
      "pressure, and six blood serum measurements were obtained for each of n =\n",
      "442 diabetes patients, as well as the response of interest, a\n",
      "quantitative measure of disease progression one year after baseline.\n",
      "\n",
      "**Data Set Characteristics:**\n",
      "\n",
      "  :Number of Instances: 442\n",
      "\n",
      "  :Number of Attributes: First 10 columns are numeric predictive values\n",
      "\n",
      "  :Target: Column 11 is a quantitative measure of disease progression one year after baseline\n",
      "\n",
      "  :Attribute Information:\n",
      "      - age     age in years\n",
      "      - sex\n",
      "      - bmi     body mass index\n",
      "      - bp      average blood pressure\n",
      "      - s1      tc, total serum cholesterol\n",
      "      - s2      ldl, low-density lipoproteins\n",
      "      - s3      hdl, high-density lipoproteins\n",
      "      - s4      tch, total cholesterol / HDL\n",
      "      - s5      ltg, possibly log of serum triglycerides level\n",
      "      - s6      glu, blood sugar level\n",
      "\n",
      "Note: Each of these 10 feature variables have been mean centered and scaled by the standard deviation times `n_samples` (i.e. the sum of squares of each column totals 1).\n",
      "\n",
      "Source URL:\n",
      "https://www4.stat.ncsu.edu/~boos/var.select/diabetes.html\n",
      "\n",
      "For more information see:\n",
      "Bradley Efron, Trevor Hastie, Iain Johnstone and Robert Tibshirani (2004) \"Least Angle Regression,\" Annals of Statistics (with discussion), 407-499.\n",
      "(https://web.stanford.edu/~hastie/Papers/LARS/LeastAngle_2002.pdf)\n"
     ]
    }
   ],
   "source": [
    "print(df_diabetes.DESCR)"
   ]
  },
  {
   "cell_type": "markdown",
   "id": "ed3e172c-9ee5-46a1-a61e-04b08c8547bd",
   "metadata": {},
   "source": [
    "#### Explaratory Data Analysis"
   ]
  },
  {
   "cell_type": "code",
   "execution_count": 100,
   "id": "a57c203d-01a9-476a-a421-8f3912786a3b",
   "metadata": {},
   "outputs": [
    {
     "data": {
      "text/html": [
       "<div>\n",
       "<style scoped>\n",
       "    .dataframe tbody tr th:only-of-type {\n",
       "        vertical-align: middle;\n",
       "    }\n",
       "\n",
       "    .dataframe tbody tr th {\n",
       "        vertical-align: top;\n",
       "    }\n",
       "\n",
       "    .dataframe thead th {\n",
       "        text-align: right;\n",
       "    }\n",
       "</style>\n",
       "<table border=\"1\" class=\"dataframe\">\n",
       "  <thead>\n",
       "    <tr style=\"text-align: right;\">\n",
       "      <th></th>\n",
       "      <th>age</th>\n",
       "      <th>sex</th>\n",
       "      <th>bmi</th>\n",
       "      <th>bp</th>\n",
       "      <th>s1</th>\n",
       "      <th>s2</th>\n",
       "      <th>s3</th>\n",
       "      <th>s4</th>\n",
       "      <th>s5</th>\n",
       "      <th>s6</th>\n",
       "    </tr>\n",
       "  </thead>\n",
       "  <tbody>\n",
       "    <tr>\n",
       "      <th>count</th>\n",
       "      <td>4.420000e+02</td>\n",
       "      <td>4.420000e+02</td>\n",
       "      <td>4.420000e+02</td>\n",
       "      <td>4.420000e+02</td>\n",
       "      <td>4.420000e+02</td>\n",
       "      <td>4.420000e+02</td>\n",
       "      <td>4.420000e+02</td>\n",
       "      <td>4.420000e+02</td>\n",
       "      <td>4.420000e+02</td>\n",
       "      <td>4.420000e+02</td>\n",
       "    </tr>\n",
       "    <tr>\n",
       "      <th>mean</th>\n",
       "      <td>-3.634285e-16</td>\n",
       "      <td>1.308343e-16</td>\n",
       "      <td>-8.045349e-16</td>\n",
       "      <td>1.281655e-16</td>\n",
       "      <td>-8.835316e-17</td>\n",
       "      <td>1.327024e-16</td>\n",
       "      <td>-4.574646e-16</td>\n",
       "      <td>3.777301e-16</td>\n",
       "      <td>-3.830854e-16</td>\n",
       "      <td>-3.412882e-16</td>\n",
       "    </tr>\n",
       "    <tr>\n",
       "      <th>std</th>\n",
       "      <td>4.761905e-02</td>\n",
       "      <td>4.761905e-02</td>\n",
       "      <td>4.761905e-02</td>\n",
       "      <td>4.761905e-02</td>\n",
       "      <td>4.761905e-02</td>\n",
       "      <td>4.761905e-02</td>\n",
       "      <td>4.761905e-02</td>\n",
       "      <td>4.761905e-02</td>\n",
       "      <td>4.761905e-02</td>\n",
       "      <td>4.761905e-02</td>\n",
       "    </tr>\n",
       "    <tr>\n",
       "      <th>min</th>\n",
       "      <td>-1.072256e-01</td>\n",
       "      <td>-4.464164e-02</td>\n",
       "      <td>-9.027530e-02</td>\n",
       "      <td>-1.123996e-01</td>\n",
       "      <td>-1.267807e-01</td>\n",
       "      <td>-1.156131e-01</td>\n",
       "      <td>-1.023071e-01</td>\n",
       "      <td>-7.639450e-02</td>\n",
       "      <td>-1.260974e-01</td>\n",
       "      <td>-1.377672e-01</td>\n",
       "    </tr>\n",
       "    <tr>\n",
       "      <th>25%</th>\n",
       "      <td>-3.729927e-02</td>\n",
       "      <td>-4.464164e-02</td>\n",
       "      <td>-3.422907e-02</td>\n",
       "      <td>-3.665645e-02</td>\n",
       "      <td>-3.424784e-02</td>\n",
       "      <td>-3.035840e-02</td>\n",
       "      <td>-3.511716e-02</td>\n",
       "      <td>-3.949338e-02</td>\n",
       "      <td>-3.324879e-02</td>\n",
       "      <td>-3.317903e-02</td>\n",
       "    </tr>\n",
       "    <tr>\n",
       "      <th>50%</th>\n",
       "      <td>5.383060e-03</td>\n",
       "      <td>-4.464164e-02</td>\n",
       "      <td>-7.283766e-03</td>\n",
       "      <td>-5.670611e-03</td>\n",
       "      <td>-4.320866e-03</td>\n",
       "      <td>-3.819065e-03</td>\n",
       "      <td>-6.584468e-03</td>\n",
       "      <td>-2.592262e-03</td>\n",
       "      <td>-1.947634e-03</td>\n",
       "      <td>-1.077698e-03</td>\n",
       "    </tr>\n",
       "    <tr>\n",
       "      <th>75%</th>\n",
       "      <td>3.807591e-02</td>\n",
       "      <td>5.068012e-02</td>\n",
       "      <td>3.124802e-02</td>\n",
       "      <td>3.564384e-02</td>\n",
       "      <td>2.835801e-02</td>\n",
       "      <td>2.984439e-02</td>\n",
       "      <td>2.931150e-02</td>\n",
       "      <td>3.430886e-02</td>\n",
       "      <td>3.243323e-02</td>\n",
       "      <td>2.791705e-02</td>\n",
       "    </tr>\n",
       "    <tr>\n",
       "      <th>max</th>\n",
       "      <td>1.107267e-01</td>\n",
       "      <td>5.068012e-02</td>\n",
       "      <td>1.705552e-01</td>\n",
       "      <td>1.320442e-01</td>\n",
       "      <td>1.539137e-01</td>\n",
       "      <td>1.987880e-01</td>\n",
       "      <td>1.811791e-01</td>\n",
       "      <td>1.852344e-01</td>\n",
       "      <td>1.335990e-01</td>\n",
       "      <td>1.356118e-01</td>\n",
       "    </tr>\n",
       "  </tbody>\n",
       "</table>\n",
       "</div>"
      ],
      "text/plain": [
       "                age           sex           bmi            bp            s1  \\\n",
       "count  4.420000e+02  4.420000e+02  4.420000e+02  4.420000e+02  4.420000e+02   \n",
       "mean  -3.634285e-16  1.308343e-16 -8.045349e-16  1.281655e-16 -8.835316e-17   \n",
       "std    4.761905e-02  4.761905e-02  4.761905e-02  4.761905e-02  4.761905e-02   \n",
       "min   -1.072256e-01 -4.464164e-02 -9.027530e-02 -1.123996e-01 -1.267807e-01   \n",
       "25%   -3.729927e-02 -4.464164e-02 -3.422907e-02 -3.665645e-02 -3.424784e-02   \n",
       "50%    5.383060e-03 -4.464164e-02 -7.283766e-03 -5.670611e-03 -4.320866e-03   \n",
       "75%    3.807591e-02  5.068012e-02  3.124802e-02  3.564384e-02  2.835801e-02   \n",
       "max    1.107267e-01  5.068012e-02  1.705552e-01  1.320442e-01  1.539137e-01   \n",
       "\n",
       "                 s2            s3            s4            s5            s6  \n",
       "count  4.420000e+02  4.420000e+02  4.420000e+02  4.420000e+02  4.420000e+02  \n",
       "mean   1.327024e-16 -4.574646e-16  3.777301e-16 -3.830854e-16 -3.412882e-16  \n",
       "std    4.761905e-02  4.761905e-02  4.761905e-02  4.761905e-02  4.761905e-02  \n",
       "min   -1.156131e-01 -1.023071e-01 -7.639450e-02 -1.260974e-01 -1.377672e-01  \n",
       "25%   -3.035840e-02 -3.511716e-02 -3.949338e-02 -3.324879e-02 -3.317903e-02  \n",
       "50%   -3.819065e-03 -6.584468e-03 -2.592262e-03 -1.947634e-03 -1.077698e-03  \n",
       "75%    2.984439e-02  2.931150e-02  3.430886e-02  3.243323e-02  2.791705e-02  \n",
       "max    1.987880e-01  1.811791e-01  1.852344e-01  1.335990e-01  1.356118e-01  "
      ]
     },
     "execution_count": 100,
     "metadata": {},
     "output_type": "execute_result"
    }
   ],
   "source": [
    "# Summary Statistics \n",
    "features_df.describe()"
   ]
  },
  {
   "cell_type": "code",
   "execution_count": 102,
   "id": "9d55ace7-e448-4586-9cfd-0e1f5ef93767",
   "metadata": {},
   "outputs": [
    {
     "data": {
      "text/plain": [
       "count    442.000000\n",
       "mean     152.133484\n",
       "std       77.093005\n",
       "min       25.000000\n",
       "25%       87.000000\n",
       "50%      140.500000\n",
       "75%      211.500000\n",
       "max      346.000000\n",
       "Name: target, dtype: float64"
      ]
     },
     "execution_count": 102,
     "metadata": {},
     "output_type": "execute_result"
    }
   ],
   "source": [
    "# Summary Statistics of Target (disease progression)\n",
    "target_df.describe()"
   ]
  },
  {
   "cell_type": "code",
   "execution_count": 103,
   "id": "81888836-5982-4def-9e96-7b21ccab1ae1",
   "metadata": {},
   "outputs": [
    {
     "data": {
      "text/plain": [
       "<AxesSubplot:>"
      ]
     },
     "execution_count": 103,
     "metadata": {},
     "output_type": "execute_result"
    },
    {
     "data": {
      "image/png": "[encoded data removed]",
      "text/plain": [
       "<Figure size 432x288 with 1 Axes>"
      ]
     },
     "metadata": {
      "needs_background": "light"
     },
     "output_type": "display_data"
    }
   ],
   "source": [
    "# Distribution of Target (Disease Progression)\n",
    "target_df.plot(kind = 'box')"
   ]
  },
  {
   "cell_type": "code",
   "execution_count": 107,
   "id": "d8618bf9-b9c3-4acb-9e09-b79273ed1d5d",
   "metadata": {},
   "outputs": [
    {
     "data": {
      "text/plain": [
       "<AxesSubplot:>"
      ]
     },
     "execution_count": 107,
     "metadata": {},
     "output_type": "execute_result"
    },
    {
     "data": {
      "image/png": "[encoded data removed]",
      "text/plain": [
       "<Figure size 432x288 with 1 Axes>"
      ]
     },
     "metadata": {
      "needs_background": "light"
     },
     "output_type": "display_data"
    }
   ],
   "source": [
    "# Distribution of bmi \n",
    "features_df['bmi'].plot(kind = 'box')"
   ]
  },
  {
   "cell_type": "code",
   "execution_count": 106,
   "id": "60b409cf-f1c9-4470-989c-bca2a4859f3c",
   "metadata": {},
   "outputs": [
    {
     "data": {
      "text/plain": [
       "<AxesSubplot:>"
      ]
     },
     "execution_count": 106,
     "metadata": {},
     "output_type": "execute_result"
    },
    {
     "data": {
      "image/png": "[encoded data removed]",
      "text/plain": [
       "<Figure size 432x288 with 1 Axes>"
      ]
     },
     "metadata": {
      "needs_background": "light"
     },
     "output_type": "display_data"
    }
   ],
   "source": [
    "#Distribution of bp \n",
    "features_df['bp'].plot(kind = 'box')"
   ]
  },
  {
   "cell_type": "markdown",
   "id": "f9f446e9-bb5a-4d2b-b7c4-5f99c0abf1d8",
   "metadata": {},
   "source": [
    "#### Find the column in features_df that has the highest correlation coefficient with the target values in target_df"
   ]
  },
  {
   "cell_type": "code",
   "execution_count": 108,
   "id": "899b7717-29dd-48a5-8a8f-b9e28b6c1a50",
   "metadata": {},
   "outputs": [],
   "source": [
    "features_df['Target'] = target_df"
   ]
  },
  {
   "cell_type": "code",
   "execution_count": 110,
   "id": "1f8b85bc-eac9-4e58-bd9f-ccf4c1010de0",
   "metadata": {},
   "outputs": [
    {
     "data": {
      "text/html": [
       "<div>\n",
       "<style scoped>\n",
       "    .dataframe tbody tr th:only-of-type {\n",
       "        vertical-align: middle;\n",
       "    }\n",
       "\n",
       "    .dataframe tbody tr th {\n",
       "        vertical-align: top;\n",
       "    }\n",
       "\n",
       "    .dataframe thead th {\n",
       "        text-align: right;\n",
       "    }\n",
       "</style>\n",
       "<table border=\"1\" class=\"dataframe\">\n",
       "  <thead>\n",
       "    <tr style=\"text-align: right;\">\n",
       "      <th></th>\n",
       "      <th>age</th>\n",
       "      <th>Target</th>\n",
       "    </tr>\n",
       "  </thead>\n",
       "  <tbody>\n",
       "    <tr>\n",
       "      <th>age</th>\n",
       "      <td>1.000000</td>\n",
       "      <td>0.187889</td>\n",
       "    </tr>\n",
       "    <tr>\n",
       "      <th>Target</th>\n",
       "      <td>0.187889</td>\n",
       "      <td>1.000000</td>\n",
       "    </tr>\n",
       "  </tbody>\n",
       "</table>\n",
       "</div>"
      ],
      "text/plain": [
       "             age    Target\n",
       "age     1.000000  0.187889\n",
       "Target  0.187889  1.000000"
      ]
     },
     "execution_count": 110,
     "metadata": {},
     "output_type": "execute_result"
    }
   ],
   "source": [
    "# Age and Target Correlation\n",
    "features_df[['age','Target']].corr()"
   ]
  },
  {
   "cell_type": "code",
   "execution_count": 111,
   "id": "626628ce-0e06-4b09-a72c-2268f45bc63f",
   "metadata": {},
   "outputs": [
    {
     "data": {
      "text/html": [
       "<div>\n",
       "<style scoped>\n",
       "    .dataframe tbody tr th:only-of-type {\n",
       "        vertical-align: middle;\n",
       "    }\n",
       "\n",
       "    .dataframe tbody tr th {\n",
       "        vertical-align: top;\n",
       "    }\n",
       "\n",
       "    .dataframe thead th {\n",
       "        text-align: right;\n",
       "    }\n",
       "</style>\n",
       "<table border=\"1\" class=\"dataframe\">\n",
       "  <thead>\n",
       "    <tr style=\"text-align: right;\">\n",
       "      <th></th>\n",
       "      <th>sex</th>\n",
       "      <th>Target</th>\n",
       "    </tr>\n",
       "  </thead>\n",
       "  <tbody>\n",
       "    <tr>\n",
       "      <th>sex</th>\n",
       "      <td>1.000000</td>\n",
       "      <td>0.043062</td>\n",
       "    </tr>\n",
       "    <tr>\n",
       "      <th>Target</th>\n",
       "      <td>0.043062</td>\n",
       "      <td>1.000000</td>\n",
       "    </tr>\n",
       "  </tbody>\n",
       "</table>\n",
       "</div>"
      ],
      "text/plain": [
       "             sex    Target\n",
       "sex     1.000000  0.043062\n",
       "Target  0.043062  1.000000"
      ]
     },
     "execution_count": 111,
     "metadata": {},
     "output_type": "execute_result"
    }
   ],
   "source": [
    "# Sex and Target Correlation\n",
    "features_df[['sex', 'Target']].corr()"
   ]
  },
  {
   "cell_type": "code",
   "execution_count": 112,
   "id": "8f0f0fd9-ccb3-43e5-9c45-97b681b867c7",
   "metadata": {},
   "outputs": [
    {
     "data": {
      "text/html": [
       "<div>\n",
       "<style scoped>\n",
       "    .dataframe tbody tr th:only-of-type {\n",
       "        vertical-align: middle;\n",
       "    }\n",
       "\n",
       "    .dataframe tbody tr th {\n",
       "        vertical-align: top;\n",
       "    }\n",
       "\n",
       "    .dataframe thead th {\n",
       "        text-align: right;\n",
       "    }\n",
       "</style>\n",
       "<table border=\"1\" class=\"dataframe\">\n",
       "  <thead>\n",
       "    <tr style=\"text-align: right;\">\n",
       "      <th></th>\n",
       "      <th>bmi</th>\n",
       "      <th>Target</th>\n",
       "    </tr>\n",
       "  </thead>\n",
       "  <tbody>\n",
       "    <tr>\n",
       "      <th>bmi</th>\n",
       "      <td>1.00000</td>\n",
       "      <td>0.58645</td>\n",
       "    </tr>\n",
       "    <tr>\n",
       "      <th>Target</th>\n",
       "      <td>0.58645</td>\n",
       "      <td>1.00000</td>\n",
       "    </tr>\n",
       "  </tbody>\n",
       "</table>\n",
       "</div>"
      ],
      "text/plain": [
       "            bmi   Target\n",
       "bmi     1.00000  0.58645\n",
       "Target  0.58645  1.00000"
      ]
     },
     "execution_count": 112,
     "metadata": {},
     "output_type": "execute_result"
    }
   ],
   "source": [
    "# BMI and Target Correlation\n",
    "features_df[['bmi', 'Target']].corr()"
   ]
  },
  {
   "cell_type": "code",
   "execution_count": 113,
   "id": "462440e2-4031-45f8-8c89-e8f5d4f2ab2a",
   "metadata": {},
   "outputs": [
    {
     "data": {
      "text/html": [
       "<div>\n",
       "<style scoped>\n",
       "    .dataframe tbody tr th:only-of-type {\n",
       "        vertical-align: middle;\n",
       "    }\n",
       "\n",
       "    .dataframe tbody tr th {\n",
       "        vertical-align: top;\n",
       "    }\n",
       "\n",
       "    .dataframe thead th {\n",
       "        text-align: right;\n",
       "    }\n",
       "</style>\n",
       "<table border=\"1\" class=\"dataframe\">\n",
       "  <thead>\n",
       "    <tr style=\"text-align: right;\">\n",
       "      <th></th>\n",
       "      <th>bp</th>\n",
       "      <th>Target</th>\n",
       "    </tr>\n",
       "  </thead>\n",
       "  <tbody>\n",
       "    <tr>\n",
       "      <th>bp</th>\n",
       "      <td>1.000000</td>\n",
       "      <td>0.441484</td>\n",
       "    </tr>\n",
       "    <tr>\n",
       "      <th>Target</th>\n",
       "      <td>0.441484</td>\n",
       "      <td>1.000000</td>\n",
       "    </tr>\n",
       "  </tbody>\n",
       "</table>\n",
       "</div>"
      ],
      "text/plain": [
       "              bp    Target\n",
       "bp      1.000000  0.441484\n",
       "Target  0.441484  1.000000"
      ]
     },
     "execution_count": 113,
     "metadata": {},
     "output_type": "execute_result"
    }
   ],
   "source": [
    "# bp and Target Correlation\n",
    "features_df[['bp', 'Target']].corr()"
   ]
  },
  {
   "cell_type": "code",
   "execution_count": 114,
   "id": "c45193ed-31d7-4025-8d47-75d2472b4184",
   "metadata": {},
   "outputs": [
    {
     "data": {
      "text/html": [
       "<div>\n",
       "<style scoped>\n",
       "    .dataframe tbody tr th:only-of-type {\n",
       "        vertical-align: middle;\n",
       "    }\n",
       "\n",
       "    .dataframe tbody tr th {\n",
       "        vertical-align: top;\n",
       "    }\n",
       "\n",
       "    .dataframe thead th {\n",
       "        text-align: right;\n",
       "    }\n",
       "</style>\n",
       "<table border=\"1\" class=\"dataframe\">\n",
       "  <thead>\n",
       "    <tr style=\"text-align: right;\">\n",
       "      <th></th>\n",
       "      <th>s1</th>\n",
       "      <th>Target</th>\n",
       "    </tr>\n",
       "  </thead>\n",
       "  <tbody>\n",
       "    <tr>\n",
       "      <th>s1</th>\n",
       "      <td>1.000000</td>\n",
       "      <td>0.212022</td>\n",
       "    </tr>\n",
       "    <tr>\n",
       "      <th>Target</th>\n",
       "      <td>0.212022</td>\n",
       "      <td>1.000000</td>\n",
       "    </tr>\n",
       "  </tbody>\n",
       "</table>\n",
       "</div>"
      ],
      "text/plain": [
       "              s1    Target\n",
       "s1      1.000000  0.212022\n",
       "Target  0.212022  1.000000"
      ]
     },
     "execution_count": 114,
     "metadata": {},
     "output_type": "execute_result"
    }
   ],
   "source": [
    "# s1 and Target Correlation\n",
    "features_df[['s1', 'Target']].corr()"
   ]
  },
  {
   "cell_type": "code",
   "execution_count": 115,
   "id": "2eb13c53-5130-4edc-a11a-15b706d5edcc",
   "metadata": {},
   "outputs": [
    {
     "data": {
      "text/html": [
       "<div>\n",
       "<style scoped>\n",
       "    .dataframe tbody tr th:only-of-type {\n",
       "        vertical-align: middle;\n",
       "    }\n",
       "\n",
       "    .dataframe tbody tr th {\n",
       "        vertical-align: top;\n",
       "    }\n",
       "\n",
       "    .dataframe thead th {\n",
       "        text-align: right;\n",
       "    }\n",
       "</style>\n",
       "<table border=\"1\" class=\"dataframe\">\n",
       "  <thead>\n",
       "    <tr style=\"text-align: right;\">\n",
       "      <th></th>\n",
       "      <th>s2</th>\n",
       "      <th>Target</th>\n",
       "    </tr>\n",
       "  </thead>\n",
       "  <tbody>\n",
       "    <tr>\n",
       "      <th>s2</th>\n",
       "      <td>1.000000</td>\n",
       "      <td>0.174054</td>\n",
       "    </tr>\n",
       "    <tr>\n",
       "      <th>Target</th>\n",
       "      <td>0.174054</td>\n",
       "      <td>1.000000</td>\n",
       "    </tr>\n",
       "  </tbody>\n",
       "</table>\n",
       "</div>"
      ],
      "text/plain": [
       "              s2    Target\n",
       "s2      1.000000  0.174054\n",
       "Target  0.174054  1.000000"
      ]
     },
     "execution_count": 115,
     "metadata": {},
     "output_type": "execute_result"
    }
   ],
   "source": [
    "# s2 and Target Correlation\n",
    "features_df[['s2', 'Target']].corr()"
   ]
  },
  {
   "cell_type": "code",
   "execution_count": 116,
   "id": "cd2f7154-566f-4ae0-9ae1-c816e26f733e",
   "metadata": {},
   "outputs": [
    {
     "data": {
      "text/html": [
       "<div>\n",
       "<style scoped>\n",
       "    .dataframe tbody tr th:only-of-type {\n",
       "        vertical-align: middle;\n",
       "    }\n",
       "\n",
       "    .dataframe tbody tr th {\n",
       "        vertical-align: top;\n",
       "    }\n",
       "\n",
       "    .dataframe thead th {\n",
       "        text-align: right;\n",
       "    }\n",
       "</style>\n",
       "<table border=\"1\" class=\"dataframe\">\n",
       "  <thead>\n",
       "    <tr style=\"text-align: right;\">\n",
       "      <th></th>\n",
       "      <th>s3</th>\n",
       "      <th>Target</th>\n",
       "    </tr>\n",
       "  </thead>\n",
       "  <tbody>\n",
       "    <tr>\n",
       "      <th>s3</th>\n",
       "      <td>1.000000</td>\n",
       "      <td>-0.394789</td>\n",
       "    </tr>\n",
       "    <tr>\n",
       "      <th>Target</th>\n",
       "      <td>-0.394789</td>\n",
       "      <td>1.000000</td>\n",
       "    </tr>\n",
       "  </tbody>\n",
       "</table>\n",
       "</div>"
      ],
      "text/plain": [
       "              s3    Target\n",
       "s3      1.000000 -0.394789\n",
       "Target -0.394789  1.000000"
      ]
     },
     "execution_count": 116,
     "metadata": {},
     "output_type": "execute_result"
    }
   ],
   "source": [
    "# s3 and Target Correlation\n",
    "features_df[['s3', 'Target']].corr()"
   ]
  },
  {
   "cell_type": "code",
   "execution_count": 117,
   "id": "2af310ea-6c3b-42e8-9256-18f5e5ff26cf",
   "metadata": {},
   "outputs": [
    {
     "data": {
      "text/html": [
       "<div>\n",
       "<style scoped>\n",
       "    .dataframe tbody tr th:only-of-type {\n",
       "        vertical-align: middle;\n",
       "    }\n",
       "\n",
       "    .dataframe tbody tr th {\n",
       "        vertical-align: top;\n",
       "    }\n",
       "\n",
       "    .dataframe thead th {\n",
       "        text-align: right;\n",
       "    }\n",
       "</style>\n",
       "<table border=\"1\" class=\"dataframe\">\n",
       "  <thead>\n",
       "    <tr style=\"text-align: right;\">\n",
       "      <th></th>\n",
       "      <th>s4</th>\n",
       "      <th>Target</th>\n",
       "    </tr>\n",
       "  </thead>\n",
       "  <tbody>\n",
       "    <tr>\n",
       "      <th>s4</th>\n",
       "      <td>1.000000</td>\n",
       "      <td>0.430453</td>\n",
       "    </tr>\n",
       "    <tr>\n",
       "      <th>Target</th>\n",
       "      <td>0.430453</td>\n",
       "      <td>1.000000</td>\n",
       "    </tr>\n",
       "  </tbody>\n",
       "</table>\n",
       "</div>"
      ],
      "text/plain": [
       "              s4    Target\n",
       "s4      1.000000  0.430453\n",
       "Target  0.430453  1.000000"
      ]
     },
     "execution_count": 117,
     "metadata": {},
     "output_type": "execute_result"
    }
   ],
   "source": [
    "# s4 and Target Correlation\n",
    "features_df[['s4', 'Target']].corr()"
   ]
  },
  {
   "cell_type": "code",
   "execution_count": 118,
   "id": "1832f152-8773-48a0-9774-d546d9f0b10b",
   "metadata": {},
   "outputs": [
    {
     "data": {
      "text/html": [
       "<div>\n",
       "<style scoped>\n",
       "    .dataframe tbody tr th:only-of-type {\n",
       "        vertical-align: middle;\n",
       "    }\n",
       "\n",
       "    .dataframe tbody tr th {\n",
       "        vertical-align: top;\n",
       "    }\n",
       "\n",
       "    .dataframe thead th {\n",
       "        text-align: right;\n",
       "    }\n",
       "</style>\n",
       "<table border=\"1\" class=\"dataframe\">\n",
       "  <thead>\n",
       "    <tr style=\"text-align: right;\">\n",
       "      <th></th>\n",
       "      <th>s5</th>\n",
       "      <th>Target</th>\n",
       "    </tr>\n",
       "  </thead>\n",
       "  <tbody>\n",
       "    <tr>\n",
       "      <th>s5</th>\n",
       "      <td>1.000000</td>\n",
       "      <td>0.565883</td>\n",
       "    </tr>\n",
       "    <tr>\n",
       "      <th>Target</th>\n",
       "      <td>0.565883</td>\n",
       "      <td>1.000000</td>\n",
       "    </tr>\n",
       "  </tbody>\n",
       "</table>\n",
       "</div>"
      ],
      "text/plain": [
       "              s5    Target\n",
       "s5      1.000000  0.565883\n",
       "Target  0.565883  1.000000"
      ]
     },
     "execution_count": 118,
     "metadata": {},
     "output_type": "execute_result"
    }
   ],
   "source": [
    "# s5 and Target Correlation\n",
    "features_df[['s5', 'Target']].corr()"
   ]
  },
  {
   "cell_type": "code",
   "execution_count": 119,
   "id": "dd603d1e-2546-44d1-971d-987a77448b85",
   "metadata": {},
   "outputs": [
    {
     "data": {
      "text/html": [
       "<div>\n",
       "<style scoped>\n",
       "    .dataframe tbody tr th:only-of-type {\n",
       "        vertical-align: middle;\n",
       "    }\n",
       "\n",
       "    .dataframe tbody tr th {\n",
       "        vertical-align: top;\n",
       "    }\n",
       "\n",
       "    .dataframe thead th {\n",
       "        text-align: right;\n",
       "    }\n",
       "</style>\n",
       "<table border=\"1\" class=\"dataframe\">\n",
       "  <thead>\n",
       "    <tr style=\"text-align: right;\">\n",
       "      <th></th>\n",
       "      <th>s6</th>\n",
       "      <th>Target</th>\n",
       "    </tr>\n",
       "  </thead>\n",
       "  <tbody>\n",
       "    <tr>\n",
       "      <th>s6</th>\n",
       "      <td>1.000000</td>\n",
       "      <td>0.382483</td>\n",
       "    </tr>\n",
       "    <tr>\n",
       "      <th>Target</th>\n",
       "      <td>0.382483</td>\n",
       "      <td>1.000000</td>\n",
       "    </tr>\n",
       "  </tbody>\n",
       "</table>\n",
       "</div>"
      ],
      "text/plain": [
       "              s6    Target\n",
       "s6      1.000000  0.382483\n",
       "Target  0.382483  1.000000"
      ]
     },
     "execution_count": 119,
     "metadata": {},
     "output_type": "execute_result"
    }
   ],
   "source": [
    "# s6 and Target Correlation\n",
    "features_df[['s6', 'Target']].corr()"
   ]
  },
  {
   "cell_type": "markdown",
   "id": "09d6e4ef-8cbb-4fb9-8f6b-8585973b6d4a",
   "metadata": {},
   "source": [
    "The column with the highest correlation coefficeint with target values is BMI. "
   ]
  },
  {
   "cell_type": "markdown",
   "id": "fd5a0967-5941-4103-8da7-65cbd1d50273",
   "metadata": {},
   "source": [
    "#### Scatterplot: BMI vs. Target"
   ]
  },
  {
   "cell_type": "code",
   "execution_count": 120,
   "id": "c211b0be-4f35-41a6-b649-ddcc140ba3a1",
   "metadata": {},
   "outputs": [
    {
     "data": {
      "text/plain": [
       "<AxesSubplot:xlabel='bmi', ylabel='Target'>"
      ]
     },
     "execution_count": 120,
     "metadata": {},
     "output_type": "execute_result"
    },
    {
     "data": {
      "image/png": "[encoded data removed]",
      "text/plain": [
       "<Figure size 432x288 with 1 Axes>"
      ]
     },
     "metadata": {
      "needs_background": "light"
     },
     "output_type": "display_data"
    }
   ],
   "source": [
    "features_df.plot(kind='scatter',\n",
    "        x='bmi',\n",
    "        y='Target')"
   ]
  },
  {
   "cell_type": "markdown",
   "id": "3ce33e47-9df3-489d-a003-43c77c77f739",
   "metadata": {},
   "source": [
    "From our scatter plot, it appears the points are clustered together to match up with the correlation coefficient of 0.5864.  "
   ]
  },
  {
   "cell_type": "markdown",
   "id": "e97de4fc-6c91-4bc3-b92b-27c56c141f7b",
   "metadata": {},
   "source": [
    "#### Linear Regression"
   ]
  },
  {
   "cell_type": "code",
   "execution_count": 134,
   "id": "c1c7c45d-e5a3-4696-be71-394fbf97addf",
   "metadata": {},
   "outputs": [],
   "source": [
    "# Imports\n",
    "import matplotlib.pyplot as plt\n",
    "from sklearn.linear_model import LinearRegression\n",
    "from sklearn.metrics import mean_squared_error, r2_score"
   ]
  },
  {
   "cell_type": "code",
   "execution_count": 122,
   "id": "5346a8c0-fecd-475f-b9cc-fad145b8b294",
   "metadata": {},
   "outputs": [],
   "source": [
    "X = features_df[['bmi']]\n",
    "y = features_df['Target']"
   ]
  },
  {
   "cell_type": "code",
   "execution_count": 132,
   "id": "22504849-853f-4ca5-bc42-433fa306c570",
   "metadata": {},
   "outputs": [],
   "source": [
    "reg = LinearRegression().fit(X, y)\n",
    "ytrain = reg.intercept_ + reg.coef_ * X"
   ]
  },
  {
   "cell_type": "code",
   "execution_count": 130,
   "id": "c1ebc741-c1ca-487d-b6b0-2beed8430a89",
   "metadata": {},
   "outputs": [
    {
     "data": {
      "text/plain": [
       "array([949.43526038])"
      ]
     },
     "execution_count": 130,
     "metadata": {},
     "output_type": "execute_result"
    }
   ],
   "source": [
    "# Coefficient\n",
    "reg.coef_"
   ]
  },
  {
   "cell_type": "code",
   "execution_count": 135,
   "id": "e1cf5c42-80cc-4c63-a51b-349365985be0",
   "metadata": {},
   "outputs": [
    {
     "data": {
      "text/plain": [
       "[<matplotlib.lines.Line2D at 0x7f7559475d30>,\n",
       " <matplotlib.lines.Line2D at 0x7f7559475d90>]"
      ]
     },
     "execution_count": 135,
     "metadata": {},
     "output_type": "execute_result"
    },
    {
     "data": {
      "image/png": "[encoded data removed]",
      "text/plain": [
       "<Figure size 432x288 with 1 Axes>"
      ]
     },
     "metadata": {
      "needs_background": "light"
     },
     "output_type": "display_data"
    }
   ],
   "source": [
    "# Plotting Linear Model on top of ScatterPlot \n",
    "features_df.plot(kind='scatter',\n",
    "        x='bmi',\n",
    "        y='Target')\n",
    "\n",
    "plt.plot(X,y,'ro',X,ytrain,'b-')"
   ]
  },
  {
   "cell_type": "code",
   "execution_count": 136,
   "id": "8b2ae7b1-b8e4-44f7-b56c-2026215aba22",
   "metadata": {},
   "outputs": [
    {
     "data": {
      "text/plain": [
       "3890.4565854612724"
      ]
     },
     "execution_count": 136,
     "metadata": {},
     "output_type": "execute_result"
    }
   ],
   "source": [
    "# Calculating Mean Squared Error \n",
    "mean_squared_error(y, ytrain)"
   ]
  },
  {
   "cell_type": "code",
   "execution_count": 137,
   "id": "7f29da56-c3d9-4c76-be1b-e28506d485c0",
   "metadata": {},
   "outputs": [
    {
     "data": {
      "text/plain": [
       "0.3439237602253803"
      ]
     },
     "execution_count": 137,
     "metadata": {},
     "output_type": "execute_result"
    }
   ],
   "source": [
    "# Calculating r-squared\n",
    "r2_score(y, ytrain)"
   ]
  },
  {
   "cell_type": "markdown",
   "id": "3d24026c-1cf9-4bb5-bbb7-1171901dfa3f",
   "metadata": {},
   "source": [
    "#### Linear Regression: Bp and Target"
   ]
  },
  {
   "cell_type": "code",
   "execution_count": 139,
   "id": "da127c5d-ba4f-4d04-828d-87b0b0bb59da",
   "metadata": {},
   "outputs": [],
   "source": [
    "# Regression Model: bp and Target\n",
    "X2 = features_df[['bp']]\n",
    "reg2 = LinearRegression().fit(X2, y)\n",
    "ytrain2 = reg2.intercept_ + reg2.coef_ * X2\n"
   ]
  },
  {
   "cell_type": "code",
   "execution_count": 140,
   "id": "bf024db2-b058-4125-821b-a35a75f9432a",
   "metadata": {},
   "outputs": [
    {
     "data": {
      "text/plain": [
       "4774.1029574417935"
      ]
     },
     "execution_count": 140,
     "metadata": {},
     "output_type": "execute_result"
    }
   ],
   "source": [
    "# Calculating Mean Squared Error \n",
    "mean_squared_error(y, ytrain2)"
   ]
  },
  {
   "cell_type": "code",
   "execution_count": 141,
   "id": "6ecc2896-0a4f-417c-ac59-2dadd65264e7",
   "metadata": {},
   "outputs": [
    {
     "data": {
      "text/plain": [
       "0.19490798886682947"
      ]
     },
     "execution_count": 141,
     "metadata": {},
     "output_type": "execute_result"
    }
   ],
   "source": [
    "# Calculating r-squared\n",
    "r2_score(y, ytrain2)"
   ]
  },
  {
   "cell_type": "markdown",
   "id": "8ab83aad-0b2c-425e-b932-99f37d29819a",
   "metadata": {},
   "source": [
    "The r-squared value for bp and Target seems to be lower than the r-squared for BMI and Target. The vice versa is true Mean Square Error: the Mean Square Error is higher for bp and the Target values than BMI and Target. This is due to the fact that bp and Target are not as highly correlated with each other unlike BMI and Target. "
   ]
  },
  {
   "cell_type": "code",
   "execution_count": null,
   "id": "2ca5f285-c924-4d8a-a32e-0ca7952b9bd8",
   "metadata": {},
   "outputs": [],
   "source": []
  }
 ],
 "metadata": {
  "kernelspec": {
   "display_name": "Python 3 (ipykernel)",
   "language": "python",
   "name": "python3"
  },
  "language_info": {
   "codemirror_mode": {
    "name": "ipython",
    "version": 3
   },
   "file_extension": ".py",
   "mimetype": "text/x-python",
   "name": "python",
   "nbconvert_exporter": "python",
   "pygments_lexer": "ipython3",
   "version": "3.9.6"
  }
 },
 "nbformat": 4,
 "nbformat_minor": 5
}
