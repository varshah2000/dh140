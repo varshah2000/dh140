{
 "cells": [
  {
   "cell_type": "markdown",
   "id": "1ae815ae-6d11-4378-9430-bf0a74815ea5",
   "metadata": {},
   "source": [
    "# Assignment 2 - Food Data Analysis"
   ]
  },
  {
   "cell_type": "markdown",
   "id": "f9bd28e0-0ea2-4403-b85a-75e91728185a",
   "metadata": {},
   "source": [
    "### Author: Varsha Hunter"
   ]
  },
  {
   "cell_type": "markdown",
   "id": "5fb80e06-98f8-494a-829d-50b22a6e89df",
   "metadata": {},
   "source": [
    "### The Data:"
   ]
  },
  {
   "cell_type": "markdown",
   "id": "33447717-b2c0-4591-b098-7a96609ba007",
   "metadata": {},
   "source": [
    "The following data comes from the United States Department of Agriculture’s Food Composition Database. It contains data for various types of food including the amounts of different vitamins and minerals found in the foods as well as macronutrient percentages. The food covered spans a large variety of foods from butter to Campbell’s soup. Much of the supplementary documenation for each field comes directly from that pages’ Wikipedia article."
   ]
  },
  {
   "cell_type": "markdown",
   "id": "7b606f2d-4d01-42cb-b0e8-41130e646410",
   "metadata": {},
   "source": [
    "Link : https://corgis-edu.github.io/corgis/python/food/ "
   ]
  },
  {
   "cell_type": "markdown",
   "id": "c5ddcdf8-dbc7-423b-8a0b-63a434ecc3b2",
   "metadata": {},
   "source": [
    "### Reading the Data:"
   ]
  },
  {
   "cell_type": "code",
   "execution_count": 2,
   "id": "636d4116-3791-4e23-afeb-36d99e9d7cf3",
   "metadata": {},
   "outputs": [],
   "source": [
    "# Importing our Module file \n",
    "import food\n",
    "report = food.get_report()"
   ]
  },
  {
   "cell_type": "code",
   "execution_count": 10,
   "id": "f467f43b-c129-4156-93e3-831d319ffd2a",
   "metadata": {},
   "outputs": [
    {
     "data": {
      "text/plain": [
       "list"
      ]
     },
     "execution_count": 10,
     "metadata": {},
     "output_type": "execute_result"
    }
   ],
   "source": [
    "# Finding the type of 'report'\n",
    "type(report)"
   ]
  },
  {
   "cell_type": "code",
   "execution_count": 11,
   "id": "e0896cd6-a006-4581-aa6b-a71d3a4f3609",
   "metadata": {},
   "outputs": [
    {
     "data": {
      "text/plain": [
       "7083"
      ]
     },
     "execution_count": 11,
     "metadata": {},
     "output_type": "execute_result"
    }
   ],
   "source": [
    "# Finding the length entries in'report'\n",
    "len(report)"
   ]
  },
  {
   "cell_type": "code",
   "execution_count": 34,
   "id": "77c05da7-7a41-4022-9216-9bd658adc447",
   "metadata": {},
   "outputs": [
    {
     "data": {
      "text/plain": [
       "{'Category': 'Milk',\n",
       " 'Description': 'Milk, NFS',\n",
       " 'Nutrient Data Bank Number': 11100000,\n",
       " 'Data': {'Alpha Carotene': 0,\n",
       "  'Beta Carotene': 4,\n",
       "  'Beta Cryptoxanthin': 0,\n",
       "  'Carbohydrate': 4.87,\n",
       "  'Cholesterol': 8,\n",
       "  'Choline': 17.9,\n",
       "  'Fiber': 0.0,\n",
       "  'Lutein and Zeaxanthin': 0,\n",
       "  'Lycopene': 0,\n",
       "  'Niacin': 0.11,\n",
       "  'Protein': 3.34,\n",
       "  'Retinol': 58,\n",
       "  'Riboflavin': 0.137,\n",
       "  'Selenium': 1.9,\n",
       "  'Sugar Total': 4.89,\n",
       "  'Thiamin': 0.057,\n",
       "  'Water': 89.04,\n",
       "  'Fat': {'Monosaturated Fat': 0.426,\n",
       "   'Polysaturated Fat': 0.065,\n",
       "   'Saturated Fat': 1.164,\n",
       "   'Total Lipid': 1.99},\n",
       "  'Major Minerals': {'Calcium': 126,\n",
       "   'Copper': 0.001,\n",
       "   'Iron': 0.0,\n",
       "   'Magnesium': 12,\n",
       "   'Phosphorus': 103,\n",
       "   'Potassium': 157,\n",
       "   'Sodium': 39,\n",
       "   'Zinc': 0.42},\n",
       "  'Vitamins': {'Vitamin A - RAE': 59,\n",
       "   'Vitamin B12': 0.56,\n",
       "   'Vitamin B6': 0.06,\n",
       "   'Vitamin C': 0.1,\n",
       "   'Vitamin E': 0.03,\n",
       "   'Vitamin K': 0.2}}}"
      ]
     },
     "execution_count": 34,
     "metadata": {},
     "output_type": "execute_result"
    }
   ],
   "source": [
    "# The first list dictionary entry of report \n",
    "report[1]"
   ]
  },
  {
   "cell_type": "markdown",
   "id": "dae62b7b-6861-4f9e-8f1f-27a2f216f66e",
   "metadata": {},
   "source": [
    "### Analysis"
   ]
  },
  {
   "cell_type": "code",
   "execution_count": 53,
   "id": "bbea2133-76a8-4141-8e35-8e98bb12d3d6",
   "metadata": {},
   "outputs": [],
   "source": [
    "# Creating a Mean Function\n",
    "def mean(a):\n",
    "    length  = len(a)\n",
    "    mean_amount = sum(a) / length\n",
    "    print(mean_amount)"
   ]
  },
  {
   "cell_type": "code",
   "execution_count": 55,
   "id": "03467668-aeb9-49fe-9ec7-e6b6a322a00c",
   "metadata": {},
   "outputs": [
    {
     "name": "stdout",
     "output_type": "stream",
     "text": [
      "15.197096774193549\n"
     ]
    }
   ],
   "source": [
    "# Finding the average Sugar levels of all Milk items in 'report'\n",
    "\n",
    "## Initializing an empty list\n",
    "all_sugars = []\n",
    "\n",
    "for i in range(len(report)):\n",
    "    if report[i]['Category'] == 'Milk':\n",
    "        sugar_level = report[i]['Data']['Sugar Total']\n",
    "        all_sugars.append(sugar_level)\n",
    "    else:\n",
    "        continue \n",
    "        \n",
    "## Average Sugar Levels of Milk \n",
    "mean(all_sugars)\n",
    "\n",
    "\n",
    "    "
   ]
  }
 ],
 "metadata": {
  "kernelspec": {
   "display_name": "Python 3 (ipykernel)",
   "language": "python",
   "name": "python3"
  },
  "language_info": {
   "codemirror_mode": {
    "name": "ipython",
    "version": 3
   },
   "file_extension": ".py",
   "mimetype": "text/x-python",
   "name": "python",
   "nbconvert_exporter": "python",
   "pygments_lexer": "ipython3",
   "version": "3.9.6"
  }
 },
 "nbformat": 4,
 "nbformat_minor": 5
}
