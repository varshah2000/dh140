{
 "cells": [
  {
   "cell_type": "markdown",
   "id": "ddfc7aee-34d6-4a19-af98-fe895acfbc00",
   "metadata": {},
   "source": [
    "# Assignment 06 - Text Analysis "
   ]
  },
  {
   "cell_type": "markdown",
   "id": "90b1abc7-b5be-4e2e-b695-c86c0121e528",
   "metadata": {},
   "source": [
    "### Digital Humanities 140: Varsha Hunter "
   ]
  },
  {
   "cell_type": "markdown",
   "id": "7c54a718-fb8b-4ffe-8d27-8c494056be52",
   "metadata": {},
   "source": [
    "## Shakespeare Word Frequency "
   ]
  },
  {
   "cell_type": "code",
   "execution_count": 223,
   "id": "8741f43e-6b68-452f-9893-84fa45313690",
   "metadata": {},
   "outputs": [
    {
     "name": "stderr",
     "output_type": "stream",
     "text": [
      "[nltk_data] Downloading package stopwords to /home/jovyan/nltk_data...\n",
      "[nltk_data]   Package stopwords is already up-to-date!\n"
     ]
    }
   ],
   "source": [
    "import requests\n",
    "import nltk\n",
    "from nltk.tokenize import word_tokenize, sent_tokenize\n",
    "from nltk.corpus import stopwords\n",
    "from string import punctuation\n",
    "nltk.download('stopwords')\n",
    "from bs4 import BeautifulSoup"
   ]
  },
  {
   "cell_type": "code",
   "execution_count": 224,
   "id": "9b3afa3b-290a-441a-8d8f-0e518cde0921",
   "metadata": {},
   "outputs": [],
   "source": [
    "# Importing Macbeth \n",
    "target_url = \"https://www.gutenberg.org/files/1533/1533-0.txt\"\n",
    "response = requests.get(target_url)\n",
    "html_string = response.text\n",
    "document = BeautifulSoup(html_string, \"html.parser\").text\n",
    "for i in ['\\n','[',']','’','”','“', '\\r', 'www.gutenberg.org', '»', '¿', 'ï', ',']:\n",
    "    document = document.replace(i,' ')"
   ]
  },
  {
   "cell_type": "code",
   "execution_count": 225,
   "id": "8d2b3072-228b-410c-a4a9-1e9d77cb8ade",
   "metadata": {},
   "outputs": [],
   "source": [
    "# Tokenizing\n",
    "sentences = sent_tokenize(document)\n",
    "words = word_tokenize(document.lower())"
   ]
  },
  {
   "cell_type": "code",
   "execution_count": 226,
   "id": "8e012c66-5923-4e29-8a04-8057bd97a30e",
   "metadata": {},
   "outputs": [],
   "source": [
    "# Removing Stopwords\n",
    "myStopwords = list(punctuation) + stopwords.words('english')\n",
    "\n",
    "wordsNoStop = []\n",
    "for i in words:\n",
    "    if i not in myStopwords:\n",
    "        wordsNoStop.append(i)\n",
    "        "
   ]
  },
  {
   "cell_type": "code",
   "execution_count": 227,
   "id": "32b97cb4-9568-42bb-945f-760749d220ac",
   "metadata": {},
   "outputs": [
    {
     "name": "stdout",
     "output_type": "stream",
     "text": [
      "[('would', 47), ('thâ\\x80\\x99', 49), ('first', 50), ('hath', 51), ('witch', 52), ('ross', 53), ('us', 54), ('yet', 56), ('scene', 57), ('malcolm', 58), ('thee', 60), ('upon', 61), ('banquo', 67), ('shall', 69), ('enter', 72), ('thou', 88), ('project', 89), ('lady', 97), ('macduff', 109), ('macbeth', 286)]\n"
     ]
    }
   ],
   "source": [
    "# Finding Top Frequency Words \n",
    "frequency = {}\n",
    "for word in wordsNoStop:\n",
    "    count = frequency.get(word,0)\n",
    "    frequency[word] = count + 1\n",
    "    \n",
    "# Top 20 Most Frequent Words \n",
    "sorted_values = sorted(frequency.values())\n",
    "sorted_freq = {}\n",
    "\n",
    "for i in sorted_values:\n",
    "    for k in frequency.keys():\n",
    "        if frequency[k] == i:\n",
    "            sorted_freq[k] = frequency[k]\n",
    "            break\n",
    "\n",
    "freq_items = sorted_freq.items()\n",
    "first_twenty = list(freq_items)[-20:]\n",
    "print(first_twenty)"
   ]
  },
  {
   "cell_type": "markdown",
   "id": "7fcb9639-5b4f-4537-8249-7121aa8c0334",
   "metadata": {},
   "source": [
    "According to the 20 most frequent words in Shakespeare's Macbeth, these words do not give a well rounded representation of the play. Key words like 'macbeth' and 'macduff' are included, however other words like 'would' and 'yet' do not give good context for the play. "
   ]
  },
  {
   "cell_type": "markdown",
   "id": "fccdc926-4e0c-4c13-a3e8-edd5b82a17f5",
   "metadata": {},
   "source": [
    "## Yelp Sentiments"
   ]
  },
  {
   "cell_type": "code",
   "execution_count": 228,
   "id": "98f485d7-57bb-456b-8fde-3f91fb389bd3",
   "metadata": {},
   "outputs": [
    {
     "name": "stderr",
     "output_type": "stream",
     "text": [
      "[nltk_data] Downloading package vader_lexicon to\n",
      "[nltk_data]     /home/jovyan/nltk_data...\n",
      "[nltk_data]   Package vader_lexicon is already up-to-date!\n"
     ]
    },
    {
     "data": {
      "text/plain": [
       "True"
      ]
     },
     "execution_count": 228,
     "metadata": {},
     "output_type": "execute_result"
    }
   ],
   "source": [
    "# Imports\n",
    "import nltk\n",
    "from nltk.sentiment import vader\n",
    "nltk.download('vader_lexicon')"
   ]
  },
  {
   "cell_type": "code",
   "execution_count": 229,
   "id": "9a07604c-d258-4451-ae0d-284d3202f9a1",
   "metadata": {},
   "outputs": [],
   "source": [
    "# Yelp Reviews\n",
    "\n",
    "review_1 = ['This is one my my familys favorite place to eat when we come to the city...Im not a huge ramen fan but my family is And since we dont have it often, so when they do ask this is the place we come to. the the only issue I have is Every time that we have come lunch or dinner they are ALWAYS sold out of the chicken paitan dx. Unfortunately Im always having to find something else to eat and its a bit of a bummer.']\n",
    "review1_stars = 4\n",
    "review_2 = ['Best Ramen in SF. The Tonkotsu ramen is immaculate with perfectly cooked pork belly and a naturally creamy broth!']\n",
    "review2_stars = 5\n",
    "review_3 = ['best ramen Ive ever had,  I love how they have chili powder you can add to adjust your like of heat']\n",
    "review3_stars = 4\n",
    "review_4 = ['Really great ramen. The wait isnt too bad - if the waitlist says 60 minutes, youll get seated in 30-45 min.The broth is really flavorful and if you get it spicy, it has the perfect kick. You can even get a noodle refill which might be the greatest option Ive ever seen.We got a couple pitchers of beer (very reasonable price) and were sufficiently comatosed at the end of the meal.']\n",
    "review4_stars = 5\n",
    "review_5= ['Ive been wanting to try this place as Ive heard its the best ramen in SF. I had the Hakata Tonkotsu Ramen w/Corn, which was great as the broth was very rich and flavorful and I also liked the thin noodles. We also tried the Menteiko Rice Bowl w/spicy seasoned cod roe, Takoyaki (Octopus Balls), Marukubu Bites (Japanese Steamed Buns filled with homemade pork chashu), and Marufuku Salad.We arrived at 11:10am on a weekday just after they opened and it was already a 30 minute wait. Thats when we realized Yelp had an online waitlist--so be sure to use it if you plan to go! However, the wait was also a good excuse to walk around Kinokuniya bookstore and all the other cute shops in the mall.']\n",
    "review5_stars = 5\n",
    "review_6 = ['Hands down the best ramen Ive ever had. Marufuku has a unique hakata broth that I havent tasted in other ramen joints before. Its simple but packs a punch from the spice. I got the deluxe hakata ramen which came with soft jammy yolk egg, pork belly, chasu slices, ginger, mushroom, corn and scallion.']\n",
    "review6_stars = 5\n",
    "review_7 = ['Jesus! I was in Japantown and like noodles , so I stopped in . They have a bowl chicken ramen broth with a grilled chicken leg for 20 bucks . I was like I guess I will get that but it will be like 25 bucks or more if I get a coke with it. When I sat down I saw the photo below for spicy Tantan men. THAT SHIT WAS THE BITNESS! I will be coming back here for more . The girl two tables down ordered the ramen with grilled chicken .... Damn that looked and smelled good . Her shit came out sizzlin like some fajitas and Japanese people dont make fajitas . The noodles here the best texture.']\n",
    "review7_stars = 5\n",
    "review_8 = ['These choices worked well together. The salad was Uber fresh arugula, red onion, red pepper and sprouts. Oh yeah, there were tomatoes but at this time of the year they were flavorless.The rice bowl was perfectly cooked rice with a nice sheen and a big thick piece of pork belly roasted to a mahogany hue. Additional, seaweed, ginger and green onions kept the dish interesting.It was a simple meal done well. Sometimes we need that.Also, the staff is exceptional!']\n",
    "review8_stars = 5\n",
    "review_9 = ['I came here on a Sunday afternoon with a friend at around 2/3 pm, and the wait was only 20 minutes. They checked our vaxx cards and IDs, and we ordered the chicken karaage and two hakata tonkotsu (mine was mild, his was medium). The food came out in 10-15 minutes, and it was *chefs kiss*. I loved the chicken karaage accompanied with the sauce and paprika (the picture doesnt give the portion justice, as the camera did not eat first). Regarding the ramen, give a pretty decent sized portion, and I finished 3/4 of mine. I tasted some of the medium spicy broth, and I actually preferred that one more (it gives more of a kick to the taste) so next time Ill be ordering that one!']\n",
    "review9_stars = 5\n",
    "review_10 = ['This is such an amazing place! It is super cute, comfortable and the ambiance is very nice. It usually has a long line, so better get a reservation.We had their tan tan men which was the special of the week and the famous hakata tonkotsu DX. The tan tan men were delicious. The broth was rich, the noodles al dente and the meat was very tasty. The tonkotsu broth was very rich, perhaps a tad too rich, but packed with flavor. It had lots of toppings. The noodles were cooked to perfection too. I highly recommend this place!']\n",
    "review10_stars = 5 \n",
    "review_11 = ['I am not a big ramen fan, but when I do get ramen, I usually order the chicken ramen. It also came with a soft boiled egg, so that was a plus because some places that I had been to had it an add-on for an additional cost. Overall, the ramen was decent, it tasted like any other ramen spot that I had been to, it was definitely not worth the wait, but glad to had the experience.']\n",
    "review11_stars = 3\n",
    "review_12 = ['The staff were really nice and friendly, and the food came out really quickly. I only ordered ramen but they also have great appetizers for those looking for more food.']\n",
    "review12_stars = 5\n",
    "review_13 = ['I visited Marufuku Ramen for the first time this past Sunday. My friend and I put our name down on the waitlist in person, which is the only waitlist option. And we explored the stores in Japan town for maybe 15-20 minutes before we received a notification that our table was ready. My friend and I both got the Hakatha Tonkatsu DX. The broth was very yummy and there was plenty of meat veggies and the boiled egg was the cherry on top. Dont leg the small looking bowl deceive you. There is plenty of food in the bowl. Overall loved our food and service. I just wish the \"spicy\" ramen was spicier. I still highly recommend it though.']\n",
    "review13_stars = 4\n",
    "review_14 = ['So yummy. Simple and delicious ramen. I get it spicy and it is so good!! The egg is always cooked to perfection and the pork belly is so soft and flavorful. Amazing noodles with perfect chew!! Cant wait to bring friends here when they visit the city.']\n",
    "review14_stars = 5\n",
    "review_15 = ['Amazing ramen! Wow you get so much for your buck! Not to mention is so tasty and definitely worth the hype. I got full not even halfway through. Great portion size. It does get really busy and theres always a long wait but its worth it! Really glad I got to try this place and will definitely be going back when I want to treat myself.']\n",
    "review15_stars = 5"
   ]
  },
  {
   "cell_type": "code",
   "execution_count": 230,
   "id": "86a5615c-14b7-4e2e-94cf-4a227d3a797d",
   "metadata": {},
   "outputs": [
    {
     "name": "stdout",
     "output_type": "stream",
     "text": [
      "[{'neg': 0.126, 'neu': 0.852, 'pos': 0.022, 'compound': -0.8612}, {'neg': 0.0, 'neu': 0.791, 'pos': 0.209, 'compound': 0.6696}, {'neg': 0.0, 'neu': 0.729, 'pos': 0.271, 'compound': 0.7717}, {'neg': 0.0, 'neu': 0.812, 'pos': 0.188, 'compound': 0.9418}, {'neg': 0.0, 'neu': 0.821, 'pos': 0.179, 'compound': 0.9744}, {'neg': 0.0, 'neu': 0.95, 'pos': 0.05, 'compound': 0.3818}, {'neg': 0.123, 'neu': 0.722, 'pos': 0.155, 'compound': 0.4919}, {'neg': 0.0, 'neu': 0.799, 'pos': 0.201, 'compound': 0.9468}, {'neg': 0.023, 'neu': 0.871, 'pos': 0.106, 'compound': 0.8985}, {'neg': 0.025, 'neu': 0.685, 'pos': 0.29, 'compound': 0.9798}, {'neg': 0.043, 'neu': 0.822, 'pos': 0.135, 'compound': 0.8526}, {'neg': 0.0, 'neu': 0.724, 'pos': 0.276, 'compound': 0.8729}, {'neg': 0.055, 'neu': 0.769, 'pos': 0.176, 'compound': 0.9366}, {'neg': 0.0, 'neu': 0.597, 'pos': 0.403, 'compound': 0.9805}, {'neg': 0.0, 'neu': 0.68, 'pos': 0.32, 'compound': 0.9719}]\n"
     ]
    }
   ],
   "source": [
    "# Finding the Polarity of Each Review \n",
    "sia = vader.SentimentIntensityAnalyzer()\n",
    "polarity_scores = []\n",
    "\n",
    "# For Loop \n",
    "reviews = [review_1, review_2, review_3, review_4, review_5, review_6, review_7, review_8, review_9, review_10, review_11, review_12, review_13, review_14, review_15]\n",
    "\n",
    "for review in reviews:\n",
    "    polarity_scores.append(sia.polarity_scores(str(review)))\n",
    "    \n",
    "print(polarity_scores)"
   ]
  },
  {
   "cell_type": "code",
   "execution_count": 231,
   "id": "3c137538-61f3-40df-b952-6e107cc27e87",
   "metadata": {},
   "outputs": [],
   "source": [
    "# Comparing Polarity Scores w Star Reviews\n",
    "stars = [review1_stars, review2_stars, review3_stars, review4_stars, review5_stars, review6_stars, review7_stars, review8_stars, review9_stars, review10_stars, review11_stars, review12_stars, review13_stars, review14_stars, review15_stars]\n",
    "compound_scores = []\n",
    "\n",
    "for i in polarity_scores:\n",
    "    compound_scores.append(i['compound'])\n"
   ]
  },
  {
   "cell_type": "code",
   "execution_count": 232,
   "id": "e7b2180b-0ac4-46c2-8b92-1845de26babc",
   "metadata": {},
   "outputs": [],
   "source": [
    "import matplotlib.pyplot as plt"
   ]
  },
  {
   "cell_type": "code",
   "execution_count": 233,
   "id": "4c2bb3c6-a236-4738-9937-f56994a03be2",
   "metadata": {},
   "outputs": [
    {
     "data": {
      "text/plain": [
       "Text(0.5, 1.0, 'Compound Polarity Scores vs. Star Reviews')"
      ]
     },
     "execution_count": 233,
     "metadata": {},
     "output_type": "execute_result"
    },
    {
     "data": {
      "image/png": "[encoded data removed]",
      "text/plain": [
       "<Figure size 432x288 with 1 Axes>"
      ]
     },
     "metadata": {
      "needs_background": "light"
     },
     "output_type": "display_data"
    }
   ],
   "source": [
    "plt.plot(compound_scores, stars, 'o', color = 'black')\n",
    "plt.xlabel('Compound Polarity Scores')\n",
    "plt.ylabel('Star Review')\n",
    "plt.title('Compound Polarity Scores vs. Star Reviews')"
   ]
  },
  {
   "cell_type": "markdown",
   "id": "cd10f23b-8748-4392-955c-da28fa4d8afb",
   "metadata": {},
   "source": [
    "## Movie Reviews"
   ]
  },
  {
   "cell_type": "code",
   "execution_count": 234,
   "id": "9a88e92e-118b-44dd-80eb-f96b9298d052",
   "metadata": {},
   "outputs": [],
   "source": [
    "# Movie Comedy Reviews \n",
    "\n",
    "comedy_1 = ['I really enjoyed this ensemble superhero movie, the diretors best since his similar GUARDIANS OF THE GALAXY. It has the same fun, anything goes kind of vibe, and the CGI effects are out of this world. This ones a DIRTY DOZEN style men-on-a-mission flick, as a group of refreshingly quirky heroes land on an island to take down a corrupt regime and their dark scientific experiment. The script zings, the violence and bloodshed are amped up, and the camaraderie works. Theres nothing not to like about this engagingly high energy production.']\n",
    "comedy_2 = ['This is a fun family animated film. I really like the family aspect of this franchise. There seems to some fatigue from critics. This is not trying to be ground-breaking or surprising. This is simple and safe. It has a bit of humor and some gentle life lessons. It is basic good family animated fun.']\n",
    "comedy_3 = ['Not sure if this played in any cinemas or not ... I just know that Adam Sandler did not return for voice duties. I imagine it had to do with either scheduling issues and/or budget issues (his fee to be more exact). But the substitute is doing more than a fine job. Also since as far as I can tell all the others did return, you will have the familiar Transylvania feeling']\n",
    "comedy_4 = ['Id have to say this is one of the best animated films Ive ever seen. I liked it the first time but really appreciated it on the second viewing, just a few weeks ago. I can see why sequel is doing such great business at the box office. Apparently, a lot of people liked this movie.']\n",
    "comedy_5 = ['A wonderful animated movie that deserves all the praise it garners. A simple story that comes across big and triumphant. Prehistoric animals rescue a human baby. Lending their voices to this beautiful project are: Ray Romano, Denis Leary, John Leguizamo, Diedrich Bader, Jack Black and Jan Krakowski. Dont miss the chance to see this family fare.']\n",
    "\n",
    "# Movie Drama Reviews \n",
    "\n",
    "drama_1 = ['The main issue about this film for me, was the pacing, it was somewhat uneven, at times it felt frustratingly slow, fortunately it did pick up at its conclusion. The running time was overlong, what is it with films in 2021? Why the need for everything to be almost three hours? Is there some deal for cost per minute at cinemas? Ninety minute films work too.']\n",
    "drama_2 = ['Initially then I wasnt really overly hooked on watching the 2021 movie \"Dont Look Up\" since I wasnt really won over by the movies synopsis. Granted, I hadnt checked out the movies trailer, so I wasnt really sure what I would be in for here. But as friends started to praise the movie, I opted to sit down and watch it.']\n",
    "drama_3 = ['Dont Look Up tells a chilling story of lies, oppression, explosion, and deceit in modern day world, but in a light hearted way. The story itself is disturbing, but the delivery is not too depressing. The numerous stars add to the entertaining factor too. I enjoyed watching it.']\n",
    "drama_4 = ['If you love a good satire, then look no further. If you have more than five brain cells, look for something a little bit more intelligent. An all star cast that act their parts beautifully. Good effects and cinematography. Its just too obvious.']\n",
    "drama_5 = ['A typical boring artisanal film that tried and failed to be dark and seductive. The acting was decent but there was no substance to the characters or story. So many tangents and conversations that meant nothing. Not dark enough, not interesting enough.']\n",
    "\n",
    "# Movie Reviews List\n",
    "movie_reviews = [comedy_1, comedy_2, comedy_3, comedy_4, comedy_5, drama_1, drama_2, drama_3, drama_4, drama_5]"
   ]
  },
  {
   "cell_type": "code",
   "execution_count": 235,
   "id": "7b62c1f3-c3b5-49fb-93f8-9ff1939021ae",
   "metadata": {},
   "outputs": [],
   "source": [
    "import pandas as pd\n",
    "from pathlib import Path  \n",
    "import glob"
   ]
  },
  {
   "cell_type": "code",
   "execution_count": 236,
   "id": "cb45b8a1-0781-4e0d-a062-cc549f0d2d0b",
   "metadata": {},
   "outputs": [],
   "source": [
    "from nltk.tokenize import sent_tokenize, word_tokenize\n",
    "from nltk.corpus import stopwords\n",
    "from string import punctuation"
   ]
  },
  {
   "cell_type": "code",
   "execution_count": 237,
   "id": "26d3d1f6-63c3-4a23-9617-d8ee73dbcd1a",
   "metadata": {},
   "outputs": [],
   "source": [
    "extrastop = ['``',\"''\",\"'re\",\"'s\",\"'re\",'``',\"''\",\"'ll\",\"--\",\"\\'\\'\",\"...\",\n",
    "             \"n\\'t\",'one','would','use','subject','from',\"\\'m\",\"\\'ve\"]"
   ]
  },
  {
   "cell_type": "code",
   "execution_count": 238,
   "id": "349bb4de-4231-43ec-8524-8731a5507c5c",
   "metadata": {},
   "outputs": [],
   "source": [
    "myStopWords2 = list(punctuation) + stopwords.words('english') + extrastop"
   ]
  },
  {
   "cell_type": "code",
   "execution_count": 239,
   "id": "d3a0d028-2afd-453d-bf39-acf941580105",
   "metadata": {},
   "outputs": [],
   "source": [
    "listofwords = []\n",
    "for i in movie_reviews:\n",
    "    listofwords.append([w for w in word_tokenize(str(i).lower()) if w not in myStopWords2])"
   ]
  },
  {
   "cell_type": "code",
   "execution_count": 240,
   "id": "0cd602f1-129c-4a2b-961b-c95d1a5de723",
   "metadata": {},
   "outputs": [
    {
     "name": "stdout",
     "output_type": "stream",
     "text": [
      "Requirement already satisfied: gensim in /opt/conda/lib/python3.9/site-packages (4.1.2)\n",
      "Requirement already satisfied: scipy>=0.18.1 in /opt/conda/lib/python3.9/site-packages (from gensim) (1.7.1)\n",
      "Requirement already satisfied: numpy>=1.17.0 in /opt/conda/lib/python3.9/site-packages (from gensim) (1.20.3)\n",
      "Requirement already satisfied: smart-open>=1.8.1 in /opt/conda/lib/python3.9/site-packages (from gensim) (5.2.1)\n"
     ]
    }
   ],
   "source": [
    "!pip install gensim"
   ]
  },
  {
   "cell_type": "code",
   "execution_count": 241,
   "id": "0ee4c90d-c2c7-4da7-a2ef-a0005a5dc3e2",
   "metadata": {},
   "outputs": [],
   "source": [
    "from gensim import corpora, models\n",
    "import gensim"
   ]
  },
  {
   "cell_type": "code",
   "execution_count": 242,
   "id": "08556df2-bf7c-4243-9277-2e0ce7f21e90",
   "metadata": {},
   "outputs": [],
   "source": [
    "dictionary = corpora.Dictionary(listofwords)\n",
    "corpus = [dictionary.doc2bow(text) for text in listofwords]"
   ]
  },
  {
   "cell_type": "code",
   "execution_count": 243,
   "id": "f39137f2-06a6-4485-b2ad-b6b05cd4a815",
   "metadata": {},
   "outputs": [],
   "source": [
    "ldamodel = gensim.models.ldamodel.LdaModel(corpus, \n",
    "                                           num_topics=2, \n",
    "                                           id2word = dictionary, \n",
    "                                           passes=20)"
   ]
  },
  {
   "cell_type": "code",
   "execution_count": 244,
   "id": "a67408ab-f36b-4af1-aef4-b21bd60492fb",
   "metadata": {},
   "outputs": [
    {
     "name": "stdout",
     "output_type": "stream",
     "text": [
      "(0, '0.016*\"really\" + 0.012*\"story\" + 0.012*\"movie\" + 0.012*\"since\" + 0.012*\"wasnt\" + 0.012*\"dark\" + 0.009*\"look\" + 0.009*\"return\" + 0.009*\"sure\" + 0.009*\"nothing\" + 0.009*\"issues\" + 0.009*\"movies\" + 0.009*\"world\" + 0.009*\"enjoyed\" + 0.009*\"watching\" + 0.009*\"enough\" + 0.005*\"effects\" + 0.005*\"like\" + 0.005*\"fun\" + 0.005*\"best\"')\n",
      "(1, '0.016*\"animated\" + 0.016*\"family\" + 0.013*\"films\" + 0.013*\"good\" + 0.009*\"film\" + 0.009*\"minute\" + 0.009*\"see\" + 0.009*\"time\" + 0.009*\"liked\" + 0.009*\"look\" + 0.009*\"bit\" + 0.009*\"simple\" + 0.009*\"fun\" + 0.009*\"movie\" + 0.009*\"really\" + 0.005*\"dont\" + 0.005*\"praise\" + 0.005*\"2021\" + 0.005*\"cinemas\" + 0.005*\"pacing\"')\n"
     ]
    }
   ],
   "source": [
    "for i in ldamodel.print_topics(num_topics=2, num_words=20):\n",
    "    print(i)"
   ]
  }
 ],
 "metadata": {
  "kernelspec": {
   "display_name": "Python 3 (ipykernel)",
   "language": "python",
   "name": "python3"
  },
  "language_info": {
   "codemirror_mode": {
    "name": "ipython",
    "version": 3
   },
   "file_extension": ".py",
   "mimetype": "text/x-python",
   "name": "python",
   "nbconvert_exporter": "python",
   "pygments_lexer": "ipython3",
   "version": "3.9.6"
  }
 },
 "nbformat": 4,
 "nbformat_minor": 5
}
