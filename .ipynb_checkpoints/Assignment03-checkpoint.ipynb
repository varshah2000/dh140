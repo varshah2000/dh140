{
 "cells": [
  {
   "cell_type": "markdown",
   "id": "bb4f5554-efc9-460e-8254-995efb5f06ac",
   "metadata": {},
   "source": [
    "# Assignment 3"
   ]
  },
  {
   "cell_type": "markdown",
   "id": "77df600c-5f4a-4e18-bd2d-88551a4f1cc6",
   "metadata": {},
   "source": [
    "## Pandas and plotting exercises"
   ]
  },
  {
   "cell_type": "code",
   "execution_count": 1,
   "id": "f5e83735-8845-4afc-b79a-b0efe963d305",
   "metadata": {},
   "outputs": [],
   "source": [
    "# Import the pandas library\n",
    "\n",
    "import pandas as pd \n"
   ]
  },
  {
   "cell_type": "markdown",
   "id": "c4fe53d9-5776-45c6-b47d-9465a2888808",
   "metadata": {},
   "source": [
    "In Week 2, you used a dataset from the CORGIS website.  You may have used either the Python, CSV, or JSON data files.\n",
    "\n",
    "For this assignment, use the CSV file format for the same category of data that you used previously."
   ]
  },
  {
   "cell_type": "code",
   "execution_count": 2,
   "id": "c5850ef7-07fb-456c-9943-ba9e87cc0784",
   "metadata": {},
   "outputs": [],
   "source": [
    "# Use pandas read_csv function to import the data into a dataframe variable\n",
    "\n",
    "food_df = pd.read_csv('food.csv')"
   ]
  },
  {
   "cell_type": "code",
   "execution_count": 3,
   "id": "ab04825f-f9ba-49ae-bf40-322f4e2554a9",
   "metadata": {},
   "outputs": [
    {
     "data": {
      "text/plain": [
       "(7083, 38)"
      ]
     },
     "execution_count": 3,
     "metadata": {},
     "output_type": "execute_result"
    }
   ],
   "source": [
    "# How many rows and columns does the dataframe have? (7083 rows, 38 columns)\n",
    "\n",
    "food_df.shape\n"
   ]
  },
  {
   "cell_type": "code",
   "execution_count": 4,
   "id": "e20a45fc-dfc0-4559-977b-d2b86e2f6534",
   "metadata": {},
   "outputs": [
    {
     "data": {
      "text/plain": [
       "Index(['Category', 'Description', 'Nutrient Data Bank Number',\n",
       "       'Data.Alpha Carotene', 'Data.Beta Carotene', 'Data.Beta Cryptoxanthin',\n",
       "       'Data.Carbohydrate', 'Data.Cholesterol', 'Data.Choline', 'Data.Fiber',\n",
       "       'Data.Lutein and Zeaxanthin', 'Data.Lycopene', 'Data.Niacin',\n",
       "       'Data.Protein', 'Data.Retinol', 'Data.Riboflavin', 'Data.Selenium',\n",
       "       'Data.Sugar Total', 'Data.Thiamin', 'Data.Water',\n",
       "       'Data.Fat.Monosaturated Fat', 'Data.Fat.Polysaturated Fat',\n",
       "       'Data.Fat.Saturated Fat', 'Data.Fat.Total Lipid',\n",
       "       'Data.Major Minerals.Calcium', 'Data.Major Minerals.Copper',\n",
       "       'Data.Major Minerals.Iron', 'Data.Major Minerals.Magnesium',\n",
       "       'Data.Major Minerals.Phosphorus', 'Data.Major Minerals.Potassium',\n",
       "       'Data.Major Minerals.Sodium', 'Data.Major Minerals.Zinc',\n",
       "       'Data.Vitamins.Vitamin A - RAE', 'Data.Vitamins.Vitamin B12',\n",
       "       'Data.Vitamins.Vitamin B6', 'Data.Vitamins.Vitamin C',\n",
       "       'Data.Vitamins.Vitamin E', 'Data.Vitamins.Vitamin K'],\n",
       "      dtype='object')"
      ]
     },
     "execution_count": 4,
     "metadata": {},
     "output_type": "execute_result"
    }
   ],
   "source": [
    "# What are the column names of the dataframe?\n",
    "\n",
    "food_df.columns\n",
    "\n"
   ]
  },
  {
   "cell_type": "code",
   "execution_count": 5,
   "id": "7a549f96-8e8e-456a-a219-096dcddb1fb8",
   "metadata": {},
   "outputs": [
    {
     "data": {
      "text/plain": [
       "Category                           object\n",
       "Description                        object\n",
       "Nutrient Data Bank Number           int64\n",
       "Data.Alpha Carotene                 int64\n",
       "Data.Beta Carotene                  int64\n",
       "Data.Beta Cryptoxanthin             int64\n",
       "Data.Carbohydrate                 float64\n",
       "Data.Cholesterol                    int64\n",
       "Data.Choline                      float64\n",
       "Data.Fiber                        float64\n",
       "Data.Lutein and Zeaxanthin          int64\n",
       "Data.Lycopene                       int64\n",
       "Data.Niacin                       float64\n",
       "Data.Protein                      float64\n",
       "Data.Retinol                        int64\n",
       "Data.Riboflavin                   float64\n",
       "Data.Selenium                     float64\n",
       "Data.Sugar Total                  float64\n",
       "Data.Thiamin                      float64\n",
       "Data.Water                        float64\n",
       "Data.Fat.Monosaturated Fat        float64\n",
       "Data.Fat.Polysaturated Fat        float64\n",
       "Data.Fat.Saturated Fat            float64\n",
       "Data.Fat.Total Lipid              float64\n",
       "Data.Major Minerals.Calcium         int64\n",
       "Data.Major Minerals.Copper        float64\n",
       "Data.Major Minerals.Iron          float64\n",
       "Data.Major Minerals.Magnesium       int64\n",
       "Data.Major Minerals.Phosphorus      int64\n",
       "Data.Major Minerals.Potassium       int64\n",
       "Data.Major Minerals.Sodium          int64\n",
       "Data.Major Minerals.Zinc          float64\n",
       "Data.Vitamins.Vitamin A - RAE       int64\n",
       "Data.Vitamins.Vitamin B12         float64\n",
       "Data.Vitamins.Vitamin B6          float64\n",
       "Data.Vitamins.Vitamin C           float64\n",
       "Data.Vitamins.Vitamin E           float64\n",
       "Data.Vitamins.Vitamin K           float64\n",
       "dtype: object"
      ]
     },
     "execution_count": 5,
     "metadata": {},
     "output_type": "execute_result"
    }
   ],
   "source": [
    "# What are the datatypes of each column?\n",
    "\n",
    "food_df.dtypes\n"
   ]
  },
  {
   "cell_type": "code",
   "execution_count": 6,
   "id": "51471321-443e-4b23-846e-54630d29af29",
   "metadata": {},
   "outputs": [
    {
     "data": {
      "text/html": [
       "<div>\n",
       "<style scoped>\n",
       "    .dataframe tbody tr th:only-of-type {\n",
       "        vertical-align: middle;\n",
       "    }\n",
       "\n",
       "    .dataframe tbody tr th {\n",
       "        vertical-align: top;\n",
       "    }\n",
       "\n",
       "    .dataframe thead th {\n",
       "        text-align: right;\n",
       "    }\n",
       "</style>\n",
       "<table border=\"1\" class=\"dataframe\">\n",
       "  <thead>\n",
       "    <tr style=\"text-align: right;\">\n",
       "      <th></th>\n",
       "      <th>Category</th>\n",
       "      <th>Description</th>\n",
       "      <th>Nutrient Data Bank Number</th>\n",
       "      <th>Data.Alpha Carotene</th>\n",
       "      <th>Data.Beta Carotene</th>\n",
       "      <th>Data.Beta Cryptoxanthin</th>\n",
       "      <th>Data.Carbohydrate</th>\n",
       "      <th>Data.Cholesterol</th>\n",
       "      <th>Data.Choline</th>\n",
       "      <th>Data.Fiber</th>\n",
       "      <th>...</th>\n",
       "      <th>Data.Major Minerals.Phosphorus</th>\n",
       "      <th>Data.Major Minerals.Potassium</th>\n",
       "      <th>Data.Major Minerals.Sodium</th>\n",
       "      <th>Data.Major Minerals.Zinc</th>\n",
       "      <th>Data.Vitamins.Vitamin A - RAE</th>\n",
       "      <th>Data.Vitamins.Vitamin B12</th>\n",
       "      <th>Data.Vitamins.Vitamin B6</th>\n",
       "      <th>Data.Vitamins.Vitamin C</th>\n",
       "      <th>Data.Vitamins.Vitamin E</th>\n",
       "      <th>Data.Vitamins.Vitamin K</th>\n",
       "    </tr>\n",
       "  </thead>\n",
       "  <tbody>\n",
       "    <tr>\n",
       "      <th>0</th>\n",
       "      <td>Milk</td>\n",
       "      <td>Milk, human</td>\n",
       "      <td>11000000</td>\n",
       "      <td>0</td>\n",
       "      <td>7</td>\n",
       "      <td>0</td>\n",
       "      <td>6.89</td>\n",
       "      <td>14</td>\n",
       "      <td>16.0</td>\n",
       "      <td>0.0</td>\n",
       "      <td>...</td>\n",
       "      <td>14</td>\n",
       "      <td>51</td>\n",
       "      <td>17</td>\n",
       "      <td>0.17</td>\n",
       "      <td>61</td>\n",
       "      <td>0.05</td>\n",
       "      <td>0.011</td>\n",
       "      <td>5.0</td>\n",
       "      <td>0.08</td>\n",
       "      <td>0.3</td>\n",
       "    </tr>\n",
       "    <tr>\n",
       "      <th>1</th>\n",
       "      <td>Milk</td>\n",
       "      <td>Milk, NFS</td>\n",
       "      <td>11100000</td>\n",
       "      <td>0</td>\n",
       "      <td>4</td>\n",
       "      <td>0</td>\n",
       "      <td>4.87</td>\n",
       "      <td>8</td>\n",
       "      <td>17.9</td>\n",
       "      <td>0.0</td>\n",
       "      <td>...</td>\n",
       "      <td>103</td>\n",
       "      <td>157</td>\n",
       "      <td>39</td>\n",
       "      <td>0.42</td>\n",
       "      <td>59</td>\n",
       "      <td>0.56</td>\n",
       "      <td>0.060</td>\n",
       "      <td>0.1</td>\n",
       "      <td>0.03</td>\n",
       "      <td>0.2</td>\n",
       "    </tr>\n",
       "  </tbody>\n",
       "</table>\n",
       "<p>2 rows × 38 columns</p>\n",
       "</div>"
      ],
      "text/plain": [
       "  Category  Description  Nutrient Data Bank Number  Data.Alpha Carotene  \\\n",
       "0     Milk  Milk, human                   11000000                    0   \n",
       "1     Milk    Milk, NFS                   11100000                    0   \n",
       "\n",
       "   Data.Beta Carotene  Data.Beta Cryptoxanthin  Data.Carbohydrate  \\\n",
       "0                   7                        0               6.89   \n",
       "1                   4                        0               4.87   \n",
       "\n",
       "   Data.Cholesterol  Data.Choline  Data.Fiber  ...  \\\n",
       "0                14          16.0         0.0  ...   \n",
       "1                 8          17.9         0.0  ...   \n",
       "\n",
       "   Data.Major Minerals.Phosphorus  Data.Major Minerals.Potassium  \\\n",
       "0                              14                             51   \n",
       "1                             103                            157   \n",
       "\n",
       "   Data.Major Minerals.Sodium  Data.Major Minerals.Zinc  \\\n",
       "0                          17                      0.17   \n",
       "1                          39                      0.42   \n",
       "\n",
       "   Data.Vitamins.Vitamin A - RAE  Data.Vitamins.Vitamin B12  \\\n",
       "0                             61                       0.05   \n",
       "1                             59                       0.56   \n",
       "\n",
       "   Data.Vitamins.Vitamin B6  Data.Vitamins.Vitamin C  Data.Vitamins.Vitamin E  \\\n",
       "0                     0.011                      5.0                     0.08   \n",
       "1                     0.060                      0.1                     0.03   \n",
       "\n",
       "   Data.Vitamins.Vitamin K  \n",
       "0                      0.3  \n",
       "1                      0.2  \n",
       "\n",
       "[2 rows x 38 columns]"
      ]
     },
     "execution_count": 6,
     "metadata": {},
     "output_type": "execute_result"
    }
   ],
   "source": [
    "# Look at the first 2 rows of the dataframe\n",
    "\n",
    "food_df.head(2)\n",
    "\n"
   ]
  },
  {
   "cell_type": "code",
   "execution_count": 8,
   "id": "f0206392-0e77-497c-8394-ad3e229a83ab",
   "metadata": {},
   "outputs": [
    {
     "data": {
      "text/html": [
       "<div>\n",
       "<style scoped>\n",
       "    .dataframe tbody tr th:only-of-type {\n",
       "        vertical-align: middle;\n",
       "    }\n",
       "\n",
       "    .dataframe tbody tr th {\n",
       "        vertical-align: top;\n",
       "    }\n",
       "\n",
       "    .dataframe thead th {\n",
       "        text-align: right;\n",
       "    }\n",
       "</style>\n",
       "<table border=\"1\" class=\"dataframe\">\n",
       "  <thead>\n",
       "    <tr style=\"text-align: right;\">\n",
       "      <th></th>\n",
       "      <th>Category</th>\n",
       "      <th>Description</th>\n",
       "      <th>Nutrient Data Bank Number</th>\n",
       "      <th>Data.Alpha Carotene</th>\n",
       "      <th>Data.Beta Carotene</th>\n",
       "      <th>Data.Beta Cryptoxanthin</th>\n",
       "      <th>Data.Carbohydrate</th>\n",
       "      <th>Data.Cholesterol</th>\n",
       "      <th>Data.Choline</th>\n",
       "      <th>Data.Fiber</th>\n",
       "      <th>...</th>\n",
       "      <th>Data.Major Minerals.Phosphorus</th>\n",
       "      <th>Data.Major Minerals.Potassium</th>\n",
       "      <th>Data.Major Minerals.Sodium</th>\n",
       "      <th>Data.Major Minerals.Zinc</th>\n",
       "      <th>Data.Vitamins.Vitamin A - RAE</th>\n",
       "      <th>Data.Vitamins.Vitamin B12</th>\n",
       "      <th>Data.Vitamins.Vitamin B6</th>\n",
       "      <th>Data.Vitamins.Vitamin C</th>\n",
       "      <th>Data.Vitamins.Vitamin E</th>\n",
       "      <th>Data.Vitamins.Vitamin K</th>\n",
       "    </tr>\n",
       "  </thead>\n",
       "  <tbody>\n",
       "    <tr>\n",
       "      <th>7081</th>\n",
       "      <td>Sauce as ingredient in hamburgers</td>\n",
       "      <td>Sauce as ingredient in hamburgers</td>\n",
       "      <td>99998130</td>\n",
       "      <td>0</td>\n",
       "      <td>194</td>\n",
       "      <td>4</td>\n",
       "      <td>17.14</td>\n",
       "      <td>13</td>\n",
       "      <td>20.0</td>\n",
       "      <td>0.6</td>\n",
       "      <td>...</td>\n",
       "      <td>33</td>\n",
       "      <td>190</td>\n",
       "      <td>845</td>\n",
       "      <td>0.21</td>\n",
       "      <td>21</td>\n",
       "      <td>0.04</td>\n",
       "      <td>0.104</td>\n",
       "      <td>2.5</td>\n",
       "      <td>1.9</td>\n",
       "      <td>50.8</td>\n",
       "    </tr>\n",
       "    <tr>\n",
       "      <th>7082</th>\n",
       "      <td>Industrial oil as ingredient in food</td>\n",
       "      <td>Industrial oil as ingredient in food</td>\n",
       "      <td>99998210</td>\n",
       "      <td>0</td>\n",
       "      <td>0</td>\n",
       "      <td>0</td>\n",
       "      <td>0.00</td>\n",
       "      <td>0</td>\n",
       "      <td>0.2</td>\n",
       "      <td>0.0</td>\n",
       "      <td>...</td>\n",
       "      <td>0</td>\n",
       "      <td>0</td>\n",
       "      <td>0</td>\n",
       "      <td>0.01</td>\n",
       "      <td>0</td>\n",
       "      <td>0.00</td>\n",
       "      <td>0.000</td>\n",
       "      <td>0.0</td>\n",
       "      <td>10.5</td>\n",
       "      <td>155.8</td>\n",
       "    </tr>\n",
       "  </tbody>\n",
       "</table>\n",
       "<p>2 rows × 38 columns</p>\n",
       "</div>"
      ],
      "text/plain": [
       "                                  Category  \\\n",
       "7081     Sauce as ingredient in hamburgers   \n",
       "7082  Industrial oil as ingredient in food   \n",
       "\n",
       "                               Description  Nutrient Data Bank Number  \\\n",
       "7081     Sauce as ingredient in hamburgers                   99998130   \n",
       "7082  Industrial oil as ingredient in food                   99998210   \n",
       "\n",
       "      Data.Alpha Carotene  Data.Beta Carotene  Data.Beta Cryptoxanthin  \\\n",
       "7081                    0                 194                        4   \n",
       "7082                    0                   0                        0   \n",
       "\n",
       "      Data.Carbohydrate  Data.Cholesterol  Data.Choline  Data.Fiber  ...  \\\n",
       "7081              17.14                13          20.0         0.6  ...   \n",
       "7082               0.00                 0           0.2         0.0  ...   \n",
       "\n",
       "      Data.Major Minerals.Phosphorus  Data.Major Minerals.Potassium  \\\n",
       "7081                              33                            190   \n",
       "7082                               0                              0   \n",
       "\n",
       "      Data.Major Minerals.Sodium  Data.Major Minerals.Zinc  \\\n",
       "7081                         845                      0.21   \n",
       "7082                           0                      0.01   \n",
       "\n",
       "      Data.Vitamins.Vitamin A - RAE  Data.Vitamins.Vitamin B12  \\\n",
       "7081                             21                       0.04   \n",
       "7082                              0                       0.00   \n",
       "\n",
       "      Data.Vitamins.Vitamin B6  Data.Vitamins.Vitamin C  \\\n",
       "7081                     0.104                      2.5   \n",
       "7082                     0.000                      0.0   \n",
       "\n",
       "      Data.Vitamins.Vitamin E  Data.Vitamins.Vitamin K  \n",
       "7081                      1.9                     50.8  \n",
       "7082                     10.5                    155.8  \n",
       "\n",
       "[2 rows x 38 columns]"
      ]
     },
     "execution_count": 8,
     "metadata": {},
     "output_type": "execute_result"
    }
   ],
   "source": [
    "# Look at the last 2 rows of the dataframe\n",
    "\n",
    "food_df.tail(2)\n",
    "\n"
   ]
  },
  {
   "cell_type": "code",
   "execution_count": 7,
   "id": "e87824ad-9ff4-487d-8506-00d940083ae0",
   "metadata": {},
   "outputs": [
    {
     "data": {
      "text/html": [
       "<div>\n",
       "<style scoped>\n",
       "    .dataframe tbody tr th:only-of-type {\n",
       "        vertical-align: middle;\n",
       "    }\n",
       "\n",
       "    .dataframe tbody tr th {\n",
       "        vertical-align: top;\n",
       "    }\n",
       "\n",
       "    .dataframe thead th {\n",
       "        text-align: right;\n",
       "    }\n",
       "</style>\n",
       "<table border=\"1\" class=\"dataframe\">\n",
       "  <thead>\n",
       "    <tr style=\"text-align: right;\">\n",
       "      <th></th>\n",
       "      <th>Nutrient Data Bank Number</th>\n",
       "      <th>Data.Alpha Carotene</th>\n",
       "      <th>Data.Beta Carotene</th>\n",
       "      <th>Data.Beta Cryptoxanthin</th>\n",
       "      <th>Data.Carbohydrate</th>\n",
       "      <th>Data.Cholesterol</th>\n",
       "      <th>Data.Choline</th>\n",
       "      <th>Data.Fiber</th>\n",
       "      <th>Data.Lutein and Zeaxanthin</th>\n",
       "      <th>Data.Lycopene</th>\n",
       "      <th>...</th>\n",
       "      <th>Data.Major Minerals.Phosphorus</th>\n",
       "      <th>Data.Major Minerals.Potassium</th>\n",
       "      <th>Data.Major Minerals.Sodium</th>\n",
       "      <th>Data.Major Minerals.Zinc</th>\n",
       "      <th>Data.Vitamins.Vitamin A - RAE</th>\n",
       "      <th>Data.Vitamins.Vitamin B12</th>\n",
       "      <th>Data.Vitamins.Vitamin B6</th>\n",
       "      <th>Data.Vitamins.Vitamin C</th>\n",
       "      <th>Data.Vitamins.Vitamin E</th>\n",
       "      <th>Data.Vitamins.Vitamin K</th>\n",
       "    </tr>\n",
       "  </thead>\n",
       "  <tbody>\n",
       "    <tr>\n",
       "      <th>count</th>\n",
       "      <td>7.083000e+03</td>\n",
       "      <td>7083.000000</td>\n",
       "      <td>7083.000000</td>\n",
       "      <td>7083.000000</td>\n",
       "      <td>7083.000000</td>\n",
       "      <td>7083.000000</td>\n",
       "      <td>7083.000000</td>\n",
       "      <td>7083.000000</td>\n",
       "      <td>7083.000000</td>\n",
       "      <td>7083.000000</td>\n",
       "      <td>...</td>\n",
       "      <td>7083.000000</td>\n",
       "      <td>7083.000000</td>\n",
       "      <td>7083.000000</td>\n",
       "      <td>7083.000000</td>\n",
       "      <td>7083.000000</td>\n",
       "      <td>7083.000000</td>\n",
       "      <td>7083.000000</td>\n",
       "      <td>7083.000000</td>\n",
       "      <td>7083.000000</td>\n",
       "      <td>7083.000000</td>\n",
       "    </tr>\n",
       "    <tr>\n",
       "      <th>mean</th>\n",
       "      <td>4.884965e+07</td>\n",
       "      <td>43.759283</td>\n",
       "      <td>255.363405</td>\n",
       "      <td>4.862346</td>\n",
       "      <td>20.828039</td>\n",
       "      <td>34.458845</td>\n",
       "      <td>34.440802</td>\n",
       "      <td>1.703840</td>\n",
       "      <td>213.351687</td>\n",
       "      <td>263.571933</td>\n",
       "      <td>...</td>\n",
       "      <td>133.088945</td>\n",
       "      <td>217.127488</td>\n",
       "      <td>340.503459</td>\n",
       "      <td>1.281451</td>\n",
       "      <td>73.139065</td>\n",
       "      <td>0.705177</td>\n",
       "      <td>0.197528</td>\n",
       "      <td>5.696216</td>\n",
       "      <td>1.086955</td>\n",
       "      <td>14.206607</td>\n",
       "    </tr>\n",
       "    <tr>\n",
       "      <th>std</th>\n",
       "      <td>2.425159e+07</td>\n",
       "      <td>259.520139</td>\n",
       "      <td>995.709951</td>\n",
       "      <td>38.047657</td>\n",
       "      <td>21.887363</td>\n",
       "      <td>77.479105</td>\n",
       "      <td>43.901497</td>\n",
       "      <td>2.558168</td>\n",
       "      <td>1015.888615</td>\n",
       "      <td>1161.245139</td>\n",
       "      <td>...</td>\n",
       "      <td>126.498700</td>\n",
       "      <td>204.812523</td>\n",
       "      <td>350.333632</td>\n",
       "      <td>2.917233</td>\n",
       "      <td>241.913126</td>\n",
       "      <td>2.502821</td>\n",
       "      <td>0.374608</td>\n",
       "      <td>15.548490</td>\n",
       "      <td>3.133890</td>\n",
       "      <td>54.944096</td>\n",
       "    </tr>\n",
       "    <tr>\n",
       "      <th>min</th>\n",
       "      <td>1.100000e+07</td>\n",
       "      <td>0.000000</td>\n",
       "      <td>0.000000</td>\n",
       "      <td>0.000000</td>\n",
       "      <td>0.000000</td>\n",
       "      <td>0.000000</td>\n",
       "      <td>0.000000</td>\n",
       "      <td>0.000000</td>\n",
       "      <td>0.000000</td>\n",
       "      <td>0.000000</td>\n",
       "      <td>...</td>\n",
       "      <td>0.000000</td>\n",
       "      <td>0.000000</td>\n",
       "      <td>0.000000</td>\n",
       "      <td>0.000000</td>\n",
       "      <td>0.000000</td>\n",
       "      <td>0.000000</td>\n",
       "      <td>0.000000</td>\n",
       "      <td>0.000000</td>\n",
       "      <td>0.000000</td>\n",
       "      <td>0.000000</td>\n",
       "    </tr>\n",
       "    <tr>\n",
       "      <th>25%</th>\n",
       "      <td>2.715077e+07</td>\n",
       "      <td>0.000000</td>\n",
       "      <td>0.000000</td>\n",
       "      <td>0.000000</td>\n",
       "      <td>5.650000</td>\n",
       "      <td>0.000000</td>\n",
       "      <td>10.000000</td>\n",
       "      <td>0.100000</td>\n",
       "      <td>0.000000</td>\n",
       "      <td>0.000000</td>\n",
       "      <td>...</td>\n",
       "      <td>48.000000</td>\n",
       "      <td>111.000000</td>\n",
       "      <td>124.000000</td>\n",
       "      <td>0.360000</td>\n",
       "      <td>2.000000</td>\n",
       "      <td>0.000000</td>\n",
       "      <td>0.052000</td>\n",
       "      <td>0.000000</td>\n",
       "      <td>0.230000</td>\n",
       "      <td>0.800000</td>\n",
       "    </tr>\n",
       "    <tr>\n",
       "      <th>50%</th>\n",
       "      <td>5.326020e+07</td>\n",
       "      <td>0.000000</td>\n",
       "      <td>8.000000</td>\n",
       "      <td>0.000000</td>\n",
       "      <td>13.300000</td>\n",
       "      <td>8.000000</td>\n",
       "      <td>19.600000</td>\n",
       "      <td>1.000000</td>\n",
       "      <td>18.000000</td>\n",
       "      <td>0.000000</td>\n",
       "      <td>...</td>\n",
       "      <td>102.000000</td>\n",
       "      <td>183.000000</td>\n",
       "      <td>313.000000</td>\n",
       "      <td>0.680000</td>\n",
       "      <td>20.000000</td>\n",
       "      <td>0.180000</td>\n",
       "      <td>0.110000</td>\n",
       "      <td>0.700000</td>\n",
       "      <td>0.550000</td>\n",
       "      <td>3.800000</td>\n",
       "    </tr>\n",
       "    <tr>\n",
       "      <th>75%</th>\n",
       "      <td>6.720345e+07</td>\n",
       "      <td>1.000000</td>\n",
       "      <td>73.000000</td>\n",
       "      <td>1.000000</td>\n",
       "      <td>26.195000</td>\n",
       "      <td>46.000000</td>\n",
       "      <td>44.200000</td>\n",
       "      <td>2.100000</td>\n",
       "      <td>81.000000</td>\n",
       "      <td>0.000000</td>\n",
       "      <td>...</td>\n",
       "      <td>189.000000</td>\n",
       "      <td>270.500000</td>\n",
       "      <td>454.000000</td>\n",
       "      <td>1.360000</td>\n",
       "      <td>61.000000</td>\n",
       "      <td>0.550000</td>\n",
       "      <td>0.203000</td>\n",
       "      <td>5.300000</td>\n",
       "      <td>1.110000</td>\n",
       "      <td>9.300000</td>\n",
       "    </tr>\n",
       "    <tr>\n",
       "      <th>max</th>\n",
       "      <td>9.999821e+07</td>\n",
       "      <td>4655.000000</td>\n",
       "      <td>14134.000000</td>\n",
       "      <td>1922.000000</td>\n",
       "      <td>100.000000</td>\n",
       "      <td>3074.000000</td>\n",
       "      <td>820.200000</td>\n",
       "      <td>46.200000</td>\n",
       "      <td>15643.000000</td>\n",
       "      <td>45902.000000</td>\n",
       "      <td>...</td>\n",
       "      <td>1429.000000</td>\n",
       "      <td>6040.000000</td>\n",
       "      <td>7851.000000</td>\n",
       "      <td>98.860000</td>\n",
       "      <td>9363.000000</td>\n",
       "      <td>82.440000</td>\n",
       "      <td>12.000000</td>\n",
       "      <td>560.000000</td>\n",
       "      <td>149.400000</td>\n",
       "      <td>1640.000000</td>\n",
       "    </tr>\n",
       "  </tbody>\n",
       "</table>\n",
       "<p>8 rows × 36 columns</p>\n",
       "</div>"
      ],
      "text/plain": [
       "       Nutrient Data Bank Number  Data.Alpha Carotene  Data.Beta Carotene  \\\n",
       "count               7.083000e+03          7083.000000         7083.000000   \n",
       "mean                4.884965e+07            43.759283          255.363405   \n",
       "std                 2.425159e+07           259.520139          995.709951   \n",
       "min                 1.100000e+07             0.000000            0.000000   \n",
       "25%                 2.715077e+07             0.000000            0.000000   \n",
       "50%                 5.326020e+07             0.000000            8.000000   \n",
       "75%                 6.720345e+07             1.000000           73.000000   \n",
       "max                 9.999821e+07          4655.000000        14134.000000   \n",
       "\n",
       "       Data.Beta Cryptoxanthin  Data.Carbohydrate  Data.Cholesterol  \\\n",
       "count              7083.000000        7083.000000       7083.000000   \n",
       "mean                  4.862346          20.828039         34.458845   \n",
       "std                  38.047657          21.887363         77.479105   \n",
       "min                   0.000000           0.000000          0.000000   \n",
       "25%                   0.000000           5.650000          0.000000   \n",
       "50%                   0.000000          13.300000          8.000000   \n",
       "75%                   1.000000          26.195000         46.000000   \n",
       "max                1922.000000         100.000000       3074.000000   \n",
       "\n",
       "       Data.Choline   Data.Fiber  Data.Lutein and Zeaxanthin  Data.Lycopene  \\\n",
       "count   7083.000000  7083.000000                 7083.000000    7083.000000   \n",
       "mean      34.440802     1.703840                  213.351687     263.571933   \n",
       "std       43.901497     2.558168                 1015.888615    1161.245139   \n",
       "min        0.000000     0.000000                    0.000000       0.000000   \n",
       "25%       10.000000     0.100000                    0.000000       0.000000   \n",
       "50%       19.600000     1.000000                   18.000000       0.000000   \n",
       "75%       44.200000     2.100000                   81.000000       0.000000   \n",
       "max      820.200000    46.200000                15643.000000   45902.000000   \n",
       "\n",
       "       ...  Data.Major Minerals.Phosphorus  Data.Major Minerals.Potassium  \\\n",
       "count  ...                     7083.000000                    7083.000000   \n",
       "mean   ...                      133.088945                     217.127488   \n",
       "std    ...                      126.498700                     204.812523   \n",
       "min    ...                        0.000000                       0.000000   \n",
       "25%    ...                       48.000000                     111.000000   \n",
       "50%    ...                      102.000000                     183.000000   \n",
       "75%    ...                      189.000000                     270.500000   \n",
       "max    ...                     1429.000000                    6040.000000   \n",
       "\n",
       "       Data.Major Minerals.Sodium  Data.Major Minerals.Zinc  \\\n",
       "count                 7083.000000               7083.000000   \n",
       "mean                   340.503459                  1.281451   \n",
       "std                    350.333632                  2.917233   \n",
       "min                      0.000000                  0.000000   \n",
       "25%                    124.000000                  0.360000   \n",
       "50%                    313.000000                  0.680000   \n",
       "75%                    454.000000                  1.360000   \n",
       "max                   7851.000000                 98.860000   \n",
       "\n",
       "       Data.Vitamins.Vitamin A - RAE  Data.Vitamins.Vitamin B12  \\\n",
       "count                    7083.000000                7083.000000   \n",
       "mean                       73.139065                   0.705177   \n",
       "std                       241.913126                   2.502821   \n",
       "min                         0.000000                   0.000000   \n",
       "25%                         2.000000                   0.000000   \n",
       "50%                        20.000000                   0.180000   \n",
       "75%                        61.000000                   0.550000   \n",
       "max                      9363.000000                  82.440000   \n",
       "\n",
       "       Data.Vitamins.Vitamin B6  Data.Vitamins.Vitamin C  \\\n",
       "count               7083.000000              7083.000000   \n",
       "mean                   0.197528                 5.696216   \n",
       "std                    0.374608                15.548490   \n",
       "min                    0.000000                 0.000000   \n",
       "25%                    0.052000                 0.000000   \n",
       "50%                    0.110000                 0.700000   \n",
       "75%                    0.203000                 5.300000   \n",
       "max                   12.000000               560.000000   \n",
       "\n",
       "       Data.Vitamins.Vitamin E  Data.Vitamins.Vitamin K  \n",
       "count              7083.000000              7083.000000  \n",
       "mean                  1.086955                14.206607  \n",
       "std                   3.133890                54.944096  \n",
       "min                   0.000000                 0.000000  \n",
       "25%                   0.230000                 0.800000  \n",
       "50%                   0.550000                 3.800000  \n",
       "75%                   1.110000                 9.300000  \n",
       "max                 149.400000              1640.000000  \n",
       "\n",
       "[8 rows x 36 columns]"
      ]
     },
     "execution_count": 7,
     "metadata": {},
     "output_type": "execute_result"
    }
   ],
   "source": [
    "# Print out summary statistics about the dataframe\n",
    "\n",
    "food_df.describe()\n",
    "\n",
    "\n"
   ]
  },
  {
   "cell_type": "code",
   "execution_count": 19,
   "id": "9b5dfabd-61b3-4cda-80d4-7a20444afa25",
   "metadata": {},
   "outputs": [
    {
     "data": {
      "text/html": [
       "<div>\n",
       "<style scoped>\n",
       "    .dataframe tbody tr th:only-of-type {\n",
       "        vertical-align: middle;\n",
       "    }\n",
       "\n",
       "    .dataframe tbody tr th {\n",
       "        vertical-align: top;\n",
       "    }\n",
       "\n",
       "    .dataframe thead th {\n",
       "        text-align: right;\n",
       "    }\n",
       "</style>\n",
       "<table border=\"1\" class=\"dataframe\">\n",
       "  <thead>\n",
       "    <tr style=\"text-align: right;\">\n",
       "      <th></th>\n",
       "      <th>Category</th>\n",
       "    </tr>\n",
       "  </thead>\n",
       "  <tbody>\n",
       "    <tr>\n",
       "      <th>0</th>\n",
       "      <td>Milk</td>\n",
       "    </tr>\n",
       "    <tr>\n",
       "      <th>1</th>\n",
       "      <td>Milk</td>\n",
       "    </tr>\n",
       "    <tr>\n",
       "      <th>2</th>\n",
       "      <td>Milk</td>\n",
       "    </tr>\n",
       "    <tr>\n",
       "      <th>3</th>\n",
       "      <td>Milk</td>\n",
       "    </tr>\n",
       "    <tr>\n",
       "      <th>4</th>\n",
       "      <td>Milk</td>\n",
       "    </tr>\n",
       "    <tr>\n",
       "      <th>...</th>\n",
       "      <td>...</td>\n",
       "    </tr>\n",
       "    <tr>\n",
       "      <th>7078</th>\n",
       "      <td>Tomatoes as ingredient in omelet</td>\n",
       "    </tr>\n",
       "    <tr>\n",
       "      <th>7079</th>\n",
       "      <td>Other vegetables as ingredient in omelet</td>\n",
       "    </tr>\n",
       "    <tr>\n",
       "      <th>7080</th>\n",
       "      <td>Vegetables as ingredient in curry</td>\n",
       "    </tr>\n",
       "    <tr>\n",
       "      <th>7081</th>\n",
       "      <td>Sauce as ingredient in hamburgers</td>\n",
       "    </tr>\n",
       "    <tr>\n",
       "      <th>7082</th>\n",
       "      <td>Industrial oil as ingredient in food</td>\n",
       "    </tr>\n",
       "  </tbody>\n",
       "</table>\n",
       "<p>7083 rows × 1 columns</p>\n",
       "</div>"
      ],
      "text/plain": [
       "                                      Category\n",
       "0                                         Milk\n",
       "1                                         Milk\n",
       "2                                         Milk\n",
       "3                                         Milk\n",
       "4                                         Milk\n",
       "...                                        ...\n",
       "7078          Tomatoes as ingredient in omelet\n",
       "7079  Other vegetables as ingredient in omelet\n",
       "7080         Vegetables as ingredient in curry\n",
       "7081         Sauce as ingredient in hamburgers\n",
       "7082      Industrial oil as ingredient in food\n",
       "\n",
       "[7083 rows x 1 columns]"
      ]
     },
     "execution_count": 19,
     "metadata": {},
     "output_type": "execute_result"
    }
   ],
   "source": [
    "# Choose a column and print out the column (it's ok if the output is abbreviated)\n",
    "\n",
    "food_df[['Category']]\n",
    "\n"
   ]
  },
  {
   "cell_type": "code",
   "execution_count": 8,
   "id": "0c5e2c07-0dff-4e78-bbb7-8faef3fdf758",
   "metadata": {},
   "outputs": [
    {
     "data": {
      "text/plain": [
       "<AxesSubplot:>"
      ]
     },
     "execution_count": 8,
     "metadata": {},
     "output_type": "execute_result"
    },
    {
     "data": {
      "image/png": "[encoded data removed]",
      "text/plain": [
       "<Figure size 432x288 with 1 Axes>"
      ]
     },
     "metadata": {
      "needs_background": "light"
     },
     "output_type": "display_data"
    }
   ],
   "source": [
    "# Choose a column that has numeric values and make a line plot of the values\n",
    "\n",
    "food_df[['Data.Choline']].plot()\n"
   ]
  },
  {
   "cell_type": "code",
   "execution_count": 9,
   "id": "6e7c7f92-3b6c-4cd0-a9ef-6356cb4c2ca5",
   "metadata": {},
   "outputs": [
    {
     "data": {
      "text/html": [
       "<div>\n",
       "<style scoped>\n",
       "    .dataframe tbody tr th:only-of-type {\n",
       "        vertical-align: middle;\n",
       "    }\n",
       "\n",
       "    .dataframe tbody tr th {\n",
       "        vertical-align: top;\n",
       "    }\n",
       "\n",
       "    .dataframe thead th {\n",
       "        text-align: right;\n",
       "    }\n",
       "</style>\n",
       "<table border=\"1\" class=\"dataframe\">\n",
       "  <thead>\n",
       "    <tr style=\"text-align: right;\">\n",
       "      <th></th>\n",
       "      <th>Data.Choline</th>\n",
       "    </tr>\n",
       "  </thead>\n",
       "  <tbody>\n",
       "    <tr>\n",
       "      <th>0</th>\n",
       "      <td>16.0</td>\n",
       "    </tr>\n",
       "    <tr>\n",
       "      <th>1</th>\n",
       "      <td>17.9</td>\n",
       "    </tr>\n",
       "    <tr>\n",
       "      <th>2</th>\n",
       "      <td>17.8</td>\n",
       "    </tr>\n",
       "    <tr>\n",
       "      <th>3</th>\n",
       "      <td>16.0</td>\n",
       "    </tr>\n",
       "    <tr>\n",
       "      <th>4</th>\n",
       "      <td>17.8</td>\n",
       "    </tr>\n",
       "    <tr>\n",
       "      <th>5</th>\n",
       "      <td>17.4</td>\n",
       "    </tr>\n",
       "    <tr>\n",
       "      <th>6</th>\n",
       "      <td>16.0</td>\n",
       "    </tr>\n",
       "    <tr>\n",
       "      <th>7</th>\n",
       "      <td>18.2</td>\n",
       "    </tr>\n",
       "    <tr>\n",
       "      <th>8</th>\n",
       "      <td>17.4</td>\n",
       "    </tr>\n",
       "    <tr>\n",
       "      <th>9</th>\n",
       "      <td>18.2</td>\n",
       "    </tr>\n",
       "    <tr>\n",
       "      <th>10</th>\n",
       "      <td>17.4</td>\n",
       "    </tr>\n",
       "  </tbody>\n",
       "</table>\n",
       "</div>"
      ],
      "text/plain": [
       "    Data.Choline\n",
       "0           16.0\n",
       "1           17.9\n",
       "2           17.8\n",
       "3           16.0\n",
       "4           17.8\n",
       "5           17.4\n",
       "6           16.0\n",
       "7           18.2\n",
       "8           17.4\n",
       "9           18.2\n",
       "10          17.4"
      ]
     },
     "execution_count": 9,
     "metadata": {},
     "output_type": "execute_result"
    }
   ],
   "source": [
    "# Use \"loc\" to print out the first 10 elements of the plotted column\n",
    "\n",
    "food_df.loc[0:10, ['Data.Choline']]\n",
    "\n"
   ]
  },
  {
   "cell_type": "code",
   "execution_count": 10,
   "id": "3a7b0251-f9e3-4f81-858d-d6c1c2b41e2d",
   "metadata": {},
   "outputs": [
    {
     "data": {
      "text/html": [
       "<div>\n",
       "<style scoped>\n",
       "    .dataframe tbody tr th:only-of-type {\n",
       "        vertical-align: middle;\n",
       "    }\n",
       "\n",
       "    .dataframe tbody tr th {\n",
       "        vertical-align: top;\n",
       "    }\n",
       "\n",
       "    .dataframe thead th {\n",
       "        text-align: right;\n",
       "    }\n",
       "</style>\n",
       "<table border=\"1\" class=\"dataframe\">\n",
       "  <thead>\n",
       "    <tr style=\"text-align: right;\">\n",
       "      <th></th>\n",
       "      <th>Data.Choline</th>\n",
       "      <th>Description</th>\n",
       "    </tr>\n",
       "  </thead>\n",
       "  <tbody>\n",
       "    <tr>\n",
       "      <th>0</th>\n",
       "      <td>16.0</td>\n",
       "      <td>Milk, human</td>\n",
       "    </tr>\n",
       "    <tr>\n",
       "      <th>1</th>\n",
       "      <td>17.9</td>\n",
       "      <td>Milk, NFS</td>\n",
       "    </tr>\n",
       "    <tr>\n",
       "      <th>2</th>\n",
       "      <td>17.8</td>\n",
       "      <td>Milk, whole</td>\n",
       "    </tr>\n",
       "    <tr>\n",
       "      <th>3</th>\n",
       "      <td>16.0</td>\n",
       "      <td>Milk, low sodium, whole</td>\n",
       "    </tr>\n",
       "    <tr>\n",
       "      <th>4</th>\n",
       "      <td>17.8</td>\n",
       "      <td>Milk, calcium fortified, whole</td>\n",
       "    </tr>\n",
       "    <tr>\n",
       "      <th>5</th>\n",
       "      <td>17.4</td>\n",
       "      <td>Milk, calcium fortified, low fat (1%)</td>\n",
       "    </tr>\n",
       "    <tr>\n",
       "      <th>6</th>\n",
       "      <td>16.0</td>\n",
       "      <td>Milk, calcium fortified, fat free (skim)</td>\n",
       "    </tr>\n",
       "    <tr>\n",
       "      <th>7</th>\n",
       "      <td>18.2</td>\n",
       "      <td>Milk, reduced fat (2%)</td>\n",
       "    </tr>\n",
       "    <tr>\n",
       "      <th>8</th>\n",
       "      <td>17.4</td>\n",
       "      <td>Milk, acidophilus, low fat (1%)</td>\n",
       "    </tr>\n",
       "    <tr>\n",
       "      <th>9</th>\n",
       "      <td>18.2</td>\n",
       "      <td>Milk, acidophilus, reduced fat (2%)</td>\n",
       "    </tr>\n",
       "    <tr>\n",
       "      <th>10</th>\n",
       "      <td>17.4</td>\n",
       "      <td>Milk, low fat (1%)</td>\n",
       "    </tr>\n",
       "  </tbody>\n",
       "</table>\n",
       "</div>"
      ],
      "text/plain": [
       "    Data.Choline                               Description\n",
       "0           16.0                               Milk, human\n",
       "1           17.9                                 Milk, NFS\n",
       "2           17.8                               Milk, whole\n",
       "3           16.0                   Milk, low sodium, whole\n",
       "4           17.8            Milk, calcium fortified, whole\n",
       "5           17.4     Milk, calcium fortified, low fat (1%)\n",
       "6           16.0  Milk, calcium fortified, fat free (skim)\n",
       "7           18.2                    Milk, reduced fat (2%)\n",
       "8           17.4           Milk, acidophilus, low fat (1%)\n",
       "9           18.2       Milk, acidophilus, reduced fat (2%)\n",
       "10          17.4                        Milk, low fat (1%)"
      ]
     },
     "execution_count": 10,
     "metadata": {},
     "output_type": "execute_result"
    }
   ],
   "source": [
    "# Use \"loc\" to print out the first 10 elements of the plotted column\n",
    "# as well as the matching 10 elements of a different column that has interesting text\n",
    "\n",
    "food_df.loc[0:10, ['Data.Choline', 'Description']]\n",
    "\n"
   ]
  },
  {
   "cell_type": "code",
   "execution_count": 13,
   "id": "e2b2a59b-4246-40cc-b5de-728bd678b832",
   "metadata": {},
   "outputs": [
    {
     "data": {
      "text/plain": [
       "<AxesSubplot:xlabel='Description'>"
      ]
     },
     "execution_count": 13,
     "metadata": {},
     "output_type": "execute_result"
    },
    {
     "data": {
      "image/png": "[encoded data removed]",
      "text/plain": [
       "<Figure size 432x288 with 1 Axes>"
      ]
     },
     "metadata": {
      "needs_background": "light"
     },
     "output_type": "display_data"
    }
   ],
   "source": [
    "# Assign the dataframe values from the previous cell into a new dataframe variable\n",
    "# and make a bar plot with the text values horizontally and the numeric values as the bar heights\n",
    "\n",
    "df = food_df.loc[0:10, ['Data.Choline', 'Description']]\n",
    "df.plot(kind = 'bar', x = 'Description')\n"
   ]
  },
  {
   "cell_type": "code",
   "execution_count": 14,
   "id": "46120796-845a-49b3-997f-b44825e375ea",
   "metadata": {},
   "outputs": [
    {
     "data": {
      "text/plain": [
       "<AxesSubplot:ylabel='Description'>"
      ]
     },
     "execution_count": 14,
     "metadata": {},
     "output_type": "execute_result"
    },
    {
     "data": {
      "image/png": "[encoded data removed]",
      "text/plain": [
       "<Figure size 432x288 with 1 Axes>"
      ]
     },
     "metadata": {
      "needs_background": "light"
     },
     "output_type": "display_data"
    }
   ],
   "source": [
    "# Re-do the plot from the previous cell as a horizontal bar plot\n",
    "\n",
    "df = food_df.loc[0:10, ['Data.Choline', 'Description']]\n",
    "df.plot(kind = 'barh', x = 'Description')\n",
    "\n"
   ]
  },
  {
   "cell_type": "code",
   "execution_count": 17,
   "id": "c8273eab-a2d6-445a-a92d-869375b82428",
   "metadata": {},
   "outputs": [
    {
     "data": {
      "text/plain": [
       "<AxesSubplot:title={'center':'Types of Milk and Their Choline Levels'}, ylabel='Description'>"
      ]
     },
     "execution_count": 17,
     "metadata": {},
     "output_type": "execute_result"
    },
    {
     "data": {
      "image/png": "[encoded data removed]",
      "text/plain": [
       "<Figure size 432x288 with 1 Axes>"
      ]
     },
     "metadata": {
      "needs_background": "light"
     },
     "output_type": "display_data"
    }
   ],
   "source": [
    "# Re-do the plot from the previous cell\n",
    "# and change at least two aesthetic elements (colors, labels, titles, ...)\n",
    "\n",
    "df.plot(kind = 'barh', x = 'Description', color = 'green', title = 'Types of Milk and Their Choline Levels')\n",
    "\n",
    "\n"
   ]
  },
  {
   "cell_type": "markdown",
   "id": "48245e7e-c7b9-43ee-a8e2-d66502b899fc",
   "metadata": {},
   "source": [
    "# Free form section"
   ]
  },
  {
   "cell_type": "markdown",
   "id": "66503e37-f96a-4a25-aaf6-c7d8b9f8cbdd",
   "metadata": {},
   "source": [
    "* Choose another type of plot that interests you from the [pandas.DataFrame.plot documentation](https://pandas.pydata.org/docs/reference/api/pandas.DataFrame.plot.html#) [look at the 'kind' parameter] and make a new plot of your dataset values using the plot type"
   ]
  },
  {
   "cell_type": "code",
   "execution_count": 25,
   "id": "3fa0ce73-b09e-46a6-b1e7-2d68f2696f8d",
   "metadata": {},
   "outputs": [
    {
     "data": {
      "text/plain": [
       "<AxesSubplot:ylabel='Frequency'>"
      ]
     },
     "execution_count": 25,
     "metadata": {},
     "output_type": "execute_result"
    },
    {
     "data": {
      "image/png": "[encoded data removed]",
      "text/plain": [
       "<Figure size 432x288 with 1 Axes>"
      ]
     },
     "metadata": {
      "needs_background": "light"
     },
     "output_type": "display_data"
    }
   ],
   "source": [
    "food_df.loc[0:1000, ['Data.Choline']].plot(kind = 'hist')\n"
   ]
  },
  {
   "cell_type": "markdown",
   "id": "6eb40e90-d302-49d1-a8a3-ed406d9b984d",
   "metadata": {},
   "source": [
    "* Copy some of your analysis from the Week 2 assignment into new cells below\n",
    "* Clean them up if desired, and make sure that you translate them to work with your new pandas dataframe structure here if needed\n",
    "* Create several plots to complement and extend your analysis"
   ]
  },
  {
   "cell_type": "code",
   "execution_count": 83,
   "id": "7d756a6d-3b15-48c0-b4ee-2a8772506dd2",
   "metadata": {},
   "outputs": [],
   "source": [
    "# Finding the Sugar, Carbohydrates, Cholesterol, and Choline  levels of all Milk items in 'report'\n",
    "\n",
    "## Initializing an empty list\n",
    "milk_type = []\n",
    "all_sugars = []\n",
    "all_carbs = []\n",
    "all_choline = []\n",
    "all_cholest = []\n",
    "\n",
    "for i in range(food_df.shape[0]):\n",
    "    if food_df['Category'][i]== 'Milk':\n",
    "        milk_name = food_df['Description'][i]\n",
    "        sugar_level = food_df['Data.Sugar Total'][i] \n",
    "        carb_level = food_df['Data.Carbohydrate'][i]\n",
    "        choline_level = food_df['Data.Choline'][i]\n",
    "        cholest_level = food_df['Data.Cholesterol'][i]\n",
    "        milk_type.append(milk_name)\n",
    "        all_sugars.append(sugar_level)\n",
    "        all_carbs.append(carb_level)\n",
    "        all_choline.append(choline_level)\n",
    "        all_cholest.append(cholest_level)\n",
    "    else:\n",
    "        continue\n",
    "        "
   ]
  },
  {
   "cell_type": "code",
   "execution_count": 84,
   "id": "4ffaaa24-dc7b-4d07-8d7a-287e78b12701",
   "metadata": {},
   "outputs": [
    {
     "data": {
      "text/html": [
       "<div>\n",
       "<style scoped>\n",
       "    .dataframe tbody tr th:only-of-type {\n",
       "        vertical-align: middle;\n",
       "    }\n",
       "\n",
       "    .dataframe tbody tr th {\n",
       "        vertical-align: top;\n",
       "    }\n",
       "\n",
       "    .dataframe thead th {\n",
       "        text-align: right;\n",
       "    }\n",
       "</style>\n",
       "<table border=\"1\" class=\"dataframe\">\n",
       "  <thead>\n",
       "    <tr style=\"text-align: right;\">\n",
       "      <th></th>\n",
       "      <th>Milk Type</th>\n",
       "      <th>Sugar</th>\n",
       "      <th>Carbs</th>\n",
       "      <th>Choline</th>\n",
       "      <th>Cholesterol</th>\n",
       "    </tr>\n",
       "  </thead>\n",
       "  <tbody>\n",
       "    <tr>\n",
       "      <th>0</th>\n",
       "      <td>Milk, human</td>\n",
       "      <td>6.89</td>\n",
       "      <td>6.89</td>\n",
       "      <td>16.0</td>\n",
       "      <td>14</td>\n",
       "    </tr>\n",
       "    <tr>\n",
       "      <th>1</th>\n",
       "      <td>Milk, NFS</td>\n",
       "      <td>4.89</td>\n",
       "      <td>4.87</td>\n",
       "      <td>17.9</td>\n",
       "      <td>8</td>\n",
       "    </tr>\n",
       "    <tr>\n",
       "      <th>2</th>\n",
       "      <td>Milk, whole</td>\n",
       "      <td>4.81</td>\n",
       "      <td>4.67</td>\n",
       "      <td>17.8</td>\n",
       "      <td>12</td>\n",
       "    </tr>\n",
       "    <tr>\n",
       "      <th>3</th>\n",
       "      <td>Milk, low sodium, whole</td>\n",
       "      <td>4.46</td>\n",
       "      <td>4.46</td>\n",
       "      <td>16.0</td>\n",
       "      <td>14</td>\n",
       "    </tr>\n",
       "    <tr>\n",
       "      <th>4</th>\n",
       "      <td>Milk, calcium fortified, whole</td>\n",
       "      <td>4.81</td>\n",
       "      <td>4.67</td>\n",
       "      <td>17.8</td>\n",
       "      <td>12</td>\n",
       "    </tr>\n",
       "    <tr>\n",
       "      <th>5</th>\n",
       "      <td>Milk, calcium fortified, low fat (1%)</td>\n",
       "      <td>4.96</td>\n",
       "      <td>5.19</td>\n",
       "      <td>17.4</td>\n",
       "      <td>5</td>\n",
       "    </tr>\n",
       "    <tr>\n",
       "      <th>6</th>\n",
       "      <td>Milk, calcium fortified, fat free (skim)</td>\n",
       "      <td>4.85</td>\n",
       "      <td>4.85</td>\n",
       "      <td>16.0</td>\n",
       "      <td>2</td>\n",
       "    </tr>\n",
       "    <tr>\n",
       "      <th>7</th>\n",
       "      <td>Milk, reduced fat (2%)</td>\n",
       "      <td>4.89</td>\n",
       "      <td>4.91</td>\n",
       "      <td>18.2</td>\n",
       "      <td>8</td>\n",
       "    </tr>\n",
       "    <tr>\n",
       "      <th>8</th>\n",
       "      <td>Milk, acidophilus, low fat (1%)</td>\n",
       "      <td>4.96</td>\n",
       "      <td>5.19</td>\n",
       "      <td>17.4</td>\n",
       "      <td>5</td>\n",
       "    </tr>\n",
       "    <tr>\n",
       "      <th>9</th>\n",
       "      <td>Milk, acidophilus, reduced fat (2%)</td>\n",
       "      <td>4.89</td>\n",
       "      <td>4.91</td>\n",
       "      <td>18.2</td>\n",
       "      <td>8</td>\n",
       "    </tr>\n",
       "    <tr>\n",
       "      <th>10</th>\n",
       "      <td>Milk, low fat (1%)</td>\n",
       "      <td>4.96</td>\n",
       "      <td>5.19</td>\n",
       "      <td>17.4</td>\n",
       "      <td>5</td>\n",
       "    </tr>\n",
       "    <tr>\n",
       "      <th>11</th>\n",
       "      <td>Milk, fat free (skim)</td>\n",
       "      <td>5.05</td>\n",
       "      <td>4.89</td>\n",
       "      <td>18.2</td>\n",
       "      <td>3</td>\n",
       "    </tr>\n",
       "    <tr>\n",
       "      <th>12</th>\n",
       "      <td>Milk, lactose free, low fat (1%)</td>\n",
       "      <td>4.96</td>\n",
       "      <td>5.19</td>\n",
       "      <td>17.4</td>\n",
       "      <td>5</td>\n",
       "    </tr>\n",
       "    <tr>\n",
       "      <th>13</th>\n",
       "      <td>Milk, lactose free, fat free (skim)</td>\n",
       "      <td>5.05</td>\n",
       "      <td>4.89</td>\n",
       "      <td>18.2</td>\n",
       "      <td>3</td>\n",
       "    </tr>\n",
       "    <tr>\n",
       "      <th>14</th>\n",
       "      <td>Milk, lactose free, reduced fat (2%)</td>\n",
       "      <td>4.89</td>\n",
       "      <td>4.91</td>\n",
       "      <td>18.2</td>\n",
       "      <td>8</td>\n",
       "    </tr>\n",
       "    <tr>\n",
       "      <th>15</th>\n",
       "      <td>Milk, lactose free, whole</td>\n",
       "      <td>4.81</td>\n",
       "      <td>4.67</td>\n",
       "      <td>17.8</td>\n",
       "      <td>12</td>\n",
       "    </tr>\n",
       "    <tr>\n",
       "      <th>16</th>\n",
       "      <td>Milk, dry, reconstituted, NS as to fat content</td>\n",
       "      <td>4.60</td>\n",
       "      <td>4.60</td>\n",
       "      <td>15.0</td>\n",
       "      <td>2</td>\n",
       "    </tr>\n",
       "    <tr>\n",
       "      <th>17</th>\n",
       "      <td>Milk, dry, reconstituted, whole</td>\n",
       "      <td>5.86</td>\n",
       "      <td>5.86</td>\n",
       "      <td>18.2</td>\n",
       "      <td>15</td>\n",
       "    </tr>\n",
       "    <tr>\n",
       "      <th>18</th>\n",
       "      <td>Milk, dry, reconstituted, low fat (1%)</td>\n",
       "      <td>4.55</td>\n",
       "      <td>4.55</td>\n",
       "      <td>15.0</td>\n",
       "      <td>4</td>\n",
       "    </tr>\n",
       "    <tr>\n",
       "      <th>19</th>\n",
       "      <td>Milk, dry, reconstituted, fat free (skim)</td>\n",
       "      <td>4.60</td>\n",
       "      <td>4.60</td>\n",
       "      <td>15.0</td>\n",
       "      <td>2</td>\n",
       "    </tr>\n",
       "    <tr>\n",
       "      <th>20</th>\n",
       "      <td>Milk, evaporated, NS as to fat content</td>\n",
       "      <td>10.04</td>\n",
       "      <td>10.04</td>\n",
       "      <td>31.8</td>\n",
       "      <td>29</td>\n",
       "    </tr>\n",
       "    <tr>\n",
       "      <th>21</th>\n",
       "      <td>Milk, evaporated, whole</td>\n",
       "      <td>10.04</td>\n",
       "      <td>10.04</td>\n",
       "      <td>31.8</td>\n",
       "      <td>29</td>\n",
       "    </tr>\n",
       "    <tr>\n",
       "      <th>22</th>\n",
       "      <td>Milk, evaporated, reduced fat (2%)</td>\n",
       "      <td>11.15</td>\n",
       "      <td>11.15</td>\n",
       "      <td>25.1</td>\n",
       "      <td>8</td>\n",
       "    </tr>\n",
       "    <tr>\n",
       "      <th>23</th>\n",
       "      <td>Milk, evaporated, fat free (skim)</td>\n",
       "      <td>11.35</td>\n",
       "      <td>11.35</td>\n",
       "      <td>25.2</td>\n",
       "      <td>4</td>\n",
       "    </tr>\n",
       "    <tr>\n",
       "      <th>24</th>\n",
       "      <td>Milk, condensed, sweetened</td>\n",
       "      <td>54.40</td>\n",
       "      <td>54.40</td>\n",
       "      <td>89.1</td>\n",
       "      <td>34</td>\n",
       "    </tr>\n",
       "    <tr>\n",
       "      <th>25</th>\n",
       "      <td>Milk, malted</td>\n",
       "      <td>7.82</td>\n",
       "      <td>8.67</td>\n",
       "      <td>17.2</td>\n",
       "      <td>8</td>\n",
       "    </tr>\n",
       "    <tr>\n",
       "      <th>26</th>\n",
       "      <td>Milk, dry, not reconstituted, NS as to fat con...</td>\n",
       "      <td>51.98</td>\n",
       "      <td>51.98</td>\n",
       "      <td>169.2</td>\n",
       "      <td>20</td>\n",
       "    </tr>\n",
       "    <tr>\n",
       "      <th>27</th>\n",
       "      <td>Milk, dry, not reconstituted, whole</td>\n",
       "      <td>38.42</td>\n",
       "      <td>38.42</td>\n",
       "      <td>119.3</td>\n",
       "      <td>97</td>\n",
       "    </tr>\n",
       "    <tr>\n",
       "      <th>28</th>\n",
       "      <td>Milk, dry, not reconstituted, low fat (1%)</td>\n",
       "      <td>51.46</td>\n",
       "      <td>51.46</td>\n",
       "      <td>167.7</td>\n",
       "      <td>22</td>\n",
       "    </tr>\n",
       "    <tr>\n",
       "      <th>29</th>\n",
       "      <td>Milk, dry, not reconstituted, fat free (skim)</td>\n",
       "      <td>51.98</td>\n",
       "      <td>51.98</td>\n",
       "      <td>169.2</td>\n",
       "      <td>20</td>\n",
       "    </tr>\n",
       "    <tr>\n",
       "      <th>30</th>\n",
       "      <td>Milk, malted, dry mix, not reconstituted</td>\n",
       "      <td>72.73</td>\n",
       "      <td>92.96</td>\n",
       "      <td>0.0</td>\n",
       "      <td>0</td>\n",
       "    </tr>\n",
       "  </tbody>\n",
       "</table>\n",
       "</div>"
      ],
      "text/plain": [
       "                                            Milk Type  Sugar  Carbs  Choline  \\\n",
       "0                                         Milk, human   6.89   6.89     16.0   \n",
       "1                                           Milk, NFS   4.89   4.87     17.9   \n",
       "2                                         Milk, whole   4.81   4.67     17.8   \n",
       "3                             Milk, low sodium, whole   4.46   4.46     16.0   \n",
       "4                      Milk, calcium fortified, whole   4.81   4.67     17.8   \n",
       "5               Milk, calcium fortified, low fat (1%)   4.96   5.19     17.4   \n",
       "6            Milk, calcium fortified, fat free (skim)   4.85   4.85     16.0   \n",
       "7                              Milk, reduced fat (2%)   4.89   4.91     18.2   \n",
       "8                     Milk, acidophilus, low fat (1%)   4.96   5.19     17.4   \n",
       "9                 Milk, acidophilus, reduced fat (2%)   4.89   4.91     18.2   \n",
       "10                                 Milk, low fat (1%)   4.96   5.19     17.4   \n",
       "11                              Milk, fat free (skim)   5.05   4.89     18.2   \n",
       "12                   Milk, lactose free, low fat (1%)   4.96   5.19     17.4   \n",
       "13                Milk, lactose free, fat free (skim)   5.05   4.89     18.2   \n",
       "14               Milk, lactose free, reduced fat (2%)   4.89   4.91     18.2   \n",
       "15                          Milk, lactose free, whole   4.81   4.67     17.8   \n",
       "16     Milk, dry, reconstituted, NS as to fat content   4.60   4.60     15.0   \n",
       "17                    Milk, dry, reconstituted, whole   5.86   5.86     18.2   \n",
       "18             Milk, dry, reconstituted, low fat (1%)   4.55   4.55     15.0   \n",
       "19          Milk, dry, reconstituted, fat free (skim)   4.60   4.60     15.0   \n",
       "20             Milk, evaporated, NS as to fat content  10.04  10.04     31.8   \n",
       "21                            Milk, evaporated, whole  10.04  10.04     31.8   \n",
       "22                 Milk, evaporated, reduced fat (2%)  11.15  11.15     25.1   \n",
       "23                  Milk, evaporated, fat free (skim)  11.35  11.35     25.2   \n",
       "24                         Milk, condensed, sweetened  54.40  54.40     89.1   \n",
       "25                                       Milk, malted   7.82   8.67     17.2   \n",
       "26  Milk, dry, not reconstituted, NS as to fat con...  51.98  51.98    169.2   \n",
       "27                Milk, dry, not reconstituted, whole  38.42  38.42    119.3   \n",
       "28         Milk, dry, not reconstituted, low fat (1%)  51.46  51.46    167.7   \n",
       "29      Milk, dry, not reconstituted, fat free (skim)  51.98  51.98    169.2   \n",
       "30           Milk, malted, dry mix, not reconstituted  72.73  92.96      0.0   \n",
       "\n",
       "    Cholesterol  \n",
       "0            14  \n",
       "1             8  \n",
       "2            12  \n",
       "3            14  \n",
       "4            12  \n",
       "5             5  \n",
       "6             2  \n",
       "7             8  \n",
       "8             5  \n",
       "9             8  \n",
       "10            5  \n",
       "11            3  \n",
       "12            5  \n",
       "13            3  \n",
       "14            8  \n",
       "15           12  \n",
       "16            2  \n",
       "17           15  \n",
       "18            4  \n",
       "19            2  \n",
       "20           29  \n",
       "21           29  \n",
       "22            8  \n",
       "23            4  \n",
       "24           34  \n",
       "25            8  \n",
       "26           20  \n",
       "27           97  \n",
       "28           22  \n",
       "29           20  \n",
       "30            0  "
      ]
     },
     "execution_count": 84,
     "metadata": {},
     "output_type": "execute_result"
    }
   ],
   "source": [
    "# Creating Milk Dataframe \n",
    "\n",
    "milk_df = pd.DataFrame(list(zip(milk_type, all_sugars, all_carbs, all_choline, all_cholest)), \n",
    "                       columns = ['Milk Type', 'Sugar', 'Carbs', 'Choline', 'Cholesterol'])\n",
    "\n",
    "milk_df\n"
   ]
  },
  {
   "cell_type": "code",
   "execution_count": 80,
   "id": "e85a2ae5-e4f6-478a-9dab-660c32b3eb46",
   "metadata": {},
   "outputs": [
    {
     "data": {
      "text/plain": [
       "<AxesSubplot:xlabel='Sugar', ylabel='Cholesterol'>"
      ]
     },
     "execution_count": 80,
     "metadata": {},
     "output_type": "execute_result"
    },
    {
     "data": {
      "image/png": "[encoded data removed]",
      "text/plain": [
       "<Figure size 432x288 with 1 Axes>"
      ]
     },
     "metadata": {
      "needs_background": "light"
     },
     "output_type": "display_data"
    },
    {
     "data": {
      "image/png": "[encoded data removed]",
      "text/plain": [
       "<Figure size 432x288 with 1 Axes>"
      ]
     },
     "metadata": {
      "needs_background": "light"
     },
     "output_type": "display_data"
    },
    {
     "data": {
      "image/png": "[encoded data removed]",
      "text/plain": [
       "<Figure size 432x288 with 1 Axes>"
      ]
     },
     "metadata": {
      "needs_background": "light"
     },
     "output_type": "display_data"
    }
   ],
   "source": [
    "# Creating Plots \n",
    "\n",
    "## Is there a correlation between Sugar vs. Carbs, Choline, and Cholesterol in Milk? \n",
    "\n",
    "milk_df.plot(kind = 'scatter', x = 'Sugar', y = 'Carbs')\n",
    "milk_df.plot(kind = 'scatter', x = 'Sugar', y = 'Choline')\n",
    "milk_df.plot(kind = 'scatter', x = 'Sugar', y = 'Cholesterol')\n"
   ]
  },
  {
   "cell_type": "code",
   "execution_count": 88,
   "id": "62958aa8-d45a-4d3f-962c-31f5ccfce680",
   "metadata": {},
   "outputs": [
    {
     "data": {
      "text/plain": [
       "<AxesSubplot:xlabel='Milk Type'>"
      ]
     },
     "execution_count": 88,
     "metadata": {},
     "output_type": "execute_result"
    },
    {
     "data": {
      "image/png": "[encoded data removed]",
      "text/plain": [
       "<Figure size 432x288 with 1 Axes>"
      ]
     },
     "metadata": {
      "needs_background": "light"
     },
     "output_type": "display_data"
    }
   ],
   "source": [
    "# Comparing Sugar, Carb, Choline, and Cholesterol Levels in Different Types of Milk \n",
    "milk_df.plot(kind = 'bar', x = 'Milk Type')"
   ]
  },
  {
   "cell_type": "code",
   "execution_count": 101,
   "id": "977f924c-605f-4f7e-b476-1924b7b18f99",
   "metadata": {},
   "outputs": [
    {
     "data": {
      "text/plain": [
       "<AxesSubplot:ylabel='Frequency'>"
      ]
     },
     "execution_count": 101,
     "metadata": {},
     "output_type": "execute_result"
    },
    {
     "data": {
      "image/png": "[encoded data removed]",
      "text/plain": [
       "<Figure size 432x288 with 1 Axes>"
      ]
     },
     "metadata": {
      "needs_background": "light"
     },
     "output_type": "display_data"
    }
   ],
   "source": [
    "# Most Common Sugar Levels in Milk \n",
    "milk_df['Sugar'].plot(kind = 'hist')\n"
   ]
  },
  {
   "cell_type": "code",
   "execution_count": 100,
   "id": "441b8698-d1b8-437b-89db-42e6f5131e39",
   "metadata": {},
   "outputs": [
    {
     "data": {
      "text/plain": [
       "<AxesSubplot:ylabel='Frequency'>"
      ]
     },
     "execution_count": 100,
     "metadata": {},
     "output_type": "execute_result"
    },
    {
     "data": {
      "image/png": "[encoded data removed]",
      "text/plain": [
       "<Figure size 432x288 with 1 Axes>"
      ]
     },
     "metadata": {
      "needs_background": "light"
     },
     "output_type": "display_data"
    }
   ],
   "source": [
    "# Most Common Choline Levels in Milk\n",
    "milk_df['Choline'].plot(kind = 'hist')\n"
   ]
  },
  {
   "cell_type": "code",
   "execution_count": 102,
   "id": "63c0895f-b8c4-406d-8a03-1f4c2c288981",
   "metadata": {},
   "outputs": [
    {
     "data": {
      "text/plain": [
       "<AxesSubplot:ylabel='Frequency'>"
      ]
     },
     "execution_count": 102,
     "metadata": {},
     "output_type": "execute_result"
    },
    {
     "data": {
      "image/png": "[encoded data removed]",
      "text/plain": [
       "<Figure size 432x288 with 1 Axes>"
      ]
     },
     "metadata": {
      "needs_background": "light"
     },
     "output_type": "display_data"
    }
   ],
   "source": [
    "# Most Common Cholesterol Levels in Milk \n",
    "\n",
    "milk_df['Cholesterol'].plot(kind = 'hist')"
   ]
  },
  {
   "cell_type": "code",
   "execution_count": 104,
   "id": "c6cfdf59-1583-4449-a47c-cdaeeb34fa5a",
   "metadata": {},
   "outputs": [
    {
     "data": {
      "text/plain": [
       "<AxesSubplot:ylabel='Frequency'>"
      ]
     },
     "execution_count": 104,
     "metadata": {},
     "output_type": "execute_result"
    },
    {
     "data": {
      "image/png": "[encoded data removed]",
      "text/plain": [
       "<Figure size 432x288 with 1 Axes>"
      ]
     },
     "metadata": {
      "needs_background": "light"
     },
     "output_type": "display_data"
    }
   ],
   "source": [
    "# Most Common Carb Levels in Milk \n",
    "\n",
    "milk_df['Carbs'].plot(kind = 'hist')\n",
    "\n"
   ]
  }
 ],
 "metadata": {
  "kernelspec": {
   "display_name": "Python 3 (ipykernel)",
   "language": "python",
   "name": "python3"
  },
  "language_info": {
   "codemirror_mode": {
    "name": "ipython",
    "version": 3
   },
   "file_extension": ".py",
   "mimetype": "text/x-python",
   "name": "python",
   "nbconvert_exporter": "python",
   "pygments_lexer": "ipython3",
   "version": "3.9.6"
  }
 },
 "nbformat": 4,
 "nbformat_minor": 5
}
